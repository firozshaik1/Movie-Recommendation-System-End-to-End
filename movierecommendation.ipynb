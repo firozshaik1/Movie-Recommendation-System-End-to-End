{
 "cells": [
  {
   "cell_type": "markdown",
   "metadata": {
    "id": "_zSWkOEcyY6v"
   },
   "source": [
    "# Movie Recomendation System"
   ]
  },
  {
   "cell_type": "code",
   "execution_count": 1,
   "metadata": {
    "id": "3hH-qhYu0eIS"
   },
   "outputs": [],
   "source": [
    "import numpy as np\n",
    "import pandas as pd\n",
    "\n",
    "import matplotlib.pyplot as plt\n",
    "import seaborn as sns\n",
    "\n",
    "import warnings\n",
    "warnings.filterwarnings('ignore')"
   ]
  },
  {
   "cell_type": "code",
   "execution_count": 2,
   "metadata": {
    "colab": {
     "base_uri": "https://localhost:8080/"
    },
    "id": "Sf2CdH9C7Gmy",
    "outputId": "43d8c306-7ea6-4445-9320-66cf7315566e"
   },
   "outputs": [],
   "source": [
    "# from google.colab import drive\n",
    "# drive.mount('/content/drive')"
   ]
  },
  {
   "cell_type": "code",
   "execution_count": 3,
   "metadata": {
    "colab": {
     "base_uri": "https://localhost:8080/"
    },
    "id": "33EdsJLr6_IL",
    "outputId": "63632fc7-fbfc-419c-c267-7b502e398054"
   },
   "outputs": [],
   "source": [
    "# import os\n",
    "\n",
    "# folder_path = '/content/drive/My Drive/Datasets/movie_datasets'\n",
    "\n",
    "# # List files in the folder\n",
    "# file_list = os.listdir(folder_path)\n",
    "\n",
    "# # Print the list of files\n",
    "# for file in file_list:\n",
    "#     print(file)\n"
   ]
  },
  {
   "cell_type": "code",
   "execution_count": 4,
   "metadata": {
    "id": "hb7JGWWByTAB"
   },
   "outputs": [],
   "source": [
    "#dataset_path = '/content/drive/My Drive/Datasets/movie_datasets'\n",
    "#data_filename = 'tmdb_5000_credits.csv'\n",
    "#movies_data = pd.read_csv(dataset_path + '/' + data_filename)\n",
    "\n",
    "movies_data = pd.read_csv('tmdb_5000_movies.csv')\n",
    "credits_data = pd.read_csv('tmdb_5000_credits.csv')"
   ]
  },
  {
   "cell_type": "code",
   "execution_count": 5,
   "metadata": {
    "colab": {
     "base_uri": "https://localhost:8080/",
     "height": 729
    },
    "id": "a4uIJv_k_z9p",
    "outputId": "0f996181-efc8-4d5b-c238-e78384d0a0de"
   },
   "outputs": [
    {
     "data": {
      "text/html": [
       "<div>\n",
       "<style scoped>\n",
       "    .dataframe tbody tr th:only-of-type {\n",
       "        vertical-align: middle;\n",
       "    }\n",
       "\n",
       "    .dataframe tbody tr th {\n",
       "        vertical-align: top;\n",
       "    }\n",
       "\n",
       "    .dataframe thead th {\n",
       "        text-align: right;\n",
       "    }\n",
       "</style>\n",
       "<table border=\"1\" class=\"dataframe\">\n",
       "  <thead>\n",
       "    <tr style=\"text-align: right;\">\n",
       "      <th></th>\n",
       "      <th>budget</th>\n",
       "      <th>genres</th>\n",
       "      <th>homepage</th>\n",
       "      <th>id</th>\n",
       "      <th>keywords</th>\n",
       "      <th>original_language</th>\n",
       "      <th>original_title</th>\n",
       "      <th>overview</th>\n",
       "      <th>popularity</th>\n",
       "      <th>production_companies</th>\n",
       "      <th>production_countries</th>\n",
       "      <th>release_date</th>\n",
       "      <th>revenue</th>\n",
       "      <th>runtime</th>\n",
       "      <th>spoken_languages</th>\n",
       "      <th>status</th>\n",
       "      <th>tagline</th>\n",
       "      <th>title</th>\n",
       "      <th>vote_average</th>\n",
       "      <th>vote_count</th>\n",
       "    </tr>\n",
       "  </thead>\n",
       "  <tbody>\n",
       "    <tr>\n",
       "      <th>0</th>\n",
       "      <td>237000000</td>\n",
       "      <td>[{\"id\": 28, \"name\": \"Action\"}, {\"id\": 12, \"nam...</td>\n",
       "      <td>http://www.avatarmovie.com/</td>\n",
       "      <td>19995</td>\n",
       "      <td>[{\"id\": 1463, \"name\": \"culture clash\"}, {\"id\":...</td>\n",
       "      <td>en</td>\n",
       "      <td>Avatar</td>\n",
       "      <td>In the 22nd century, a paraplegic Marine is di...</td>\n",
       "      <td>150.437577</td>\n",
       "      <td>[{\"name\": \"Ingenious Film Partners\", \"id\": 289...</td>\n",
       "      <td>[{\"iso_3166_1\": \"US\", \"name\": \"United States o...</td>\n",
       "      <td>2009-12-10</td>\n",
       "      <td>2787965087</td>\n",
       "      <td>162.0</td>\n",
       "      <td>[{\"iso_639_1\": \"en\", \"name\": \"English\"}, {\"iso...</td>\n",
       "      <td>Released</td>\n",
       "      <td>Enter the World of Pandora.</td>\n",
       "      <td>Avatar</td>\n",
       "      <td>7.2</td>\n",
       "      <td>11800</td>\n",
       "    </tr>\n",
       "    <tr>\n",
       "      <th>1</th>\n",
       "      <td>300000000</td>\n",
       "      <td>[{\"id\": 12, \"name\": \"Adventure\"}, {\"id\": 14, \"...</td>\n",
       "      <td>http://disney.go.com/disneypictures/pirates/</td>\n",
       "      <td>285</td>\n",
       "      <td>[{\"id\": 270, \"name\": \"ocean\"}, {\"id\": 726, \"na...</td>\n",
       "      <td>en</td>\n",
       "      <td>Pirates of the Caribbean: At World's End</td>\n",
       "      <td>Captain Barbossa, long believed to be dead, ha...</td>\n",
       "      <td>139.082615</td>\n",
       "      <td>[{\"name\": \"Walt Disney Pictures\", \"id\": 2}, {\"...</td>\n",
       "      <td>[{\"iso_3166_1\": \"US\", \"name\": \"United States o...</td>\n",
       "      <td>2007-05-19</td>\n",
       "      <td>961000000</td>\n",
       "      <td>169.0</td>\n",
       "      <td>[{\"iso_639_1\": \"en\", \"name\": \"English\"}]</td>\n",
       "      <td>Released</td>\n",
       "      <td>At the end of the world, the adventure begins.</td>\n",
       "      <td>Pirates of the Caribbean: At World's End</td>\n",
       "      <td>6.9</td>\n",
       "      <td>4500</td>\n",
       "    </tr>\n",
       "    <tr>\n",
       "      <th>2</th>\n",
       "      <td>245000000</td>\n",
       "      <td>[{\"id\": 28, \"name\": \"Action\"}, {\"id\": 12, \"nam...</td>\n",
       "      <td>http://www.sonypictures.com/movies/spectre/</td>\n",
       "      <td>206647</td>\n",
       "      <td>[{\"id\": 470, \"name\": \"spy\"}, {\"id\": 818, \"name...</td>\n",
       "      <td>en</td>\n",
       "      <td>Spectre</td>\n",
       "      <td>A cryptic message from Bond’s past sends him o...</td>\n",
       "      <td>107.376788</td>\n",
       "      <td>[{\"name\": \"Columbia Pictures\", \"id\": 5}, {\"nam...</td>\n",
       "      <td>[{\"iso_3166_1\": \"GB\", \"name\": \"United Kingdom\"...</td>\n",
       "      <td>2015-10-26</td>\n",
       "      <td>880674609</td>\n",
       "      <td>148.0</td>\n",
       "      <td>[{\"iso_639_1\": \"fr\", \"name\": \"Fran\\u00e7ais\"},...</td>\n",
       "      <td>Released</td>\n",
       "      <td>A Plan No One Escapes</td>\n",
       "      <td>Spectre</td>\n",
       "      <td>6.3</td>\n",
       "      <td>4466</td>\n",
       "    </tr>\n",
       "    <tr>\n",
       "      <th>3</th>\n",
       "      <td>250000000</td>\n",
       "      <td>[{\"id\": 28, \"name\": \"Action\"}, {\"id\": 80, \"nam...</td>\n",
       "      <td>http://www.thedarkknightrises.com/</td>\n",
       "      <td>49026</td>\n",
       "      <td>[{\"id\": 849, \"name\": \"dc comics\"}, {\"id\": 853,...</td>\n",
       "      <td>en</td>\n",
       "      <td>The Dark Knight Rises</td>\n",
       "      <td>Following the death of District Attorney Harve...</td>\n",
       "      <td>112.312950</td>\n",
       "      <td>[{\"name\": \"Legendary Pictures\", \"id\": 923}, {\"...</td>\n",
       "      <td>[{\"iso_3166_1\": \"US\", \"name\": \"United States o...</td>\n",
       "      <td>2012-07-16</td>\n",
       "      <td>1084939099</td>\n",
       "      <td>165.0</td>\n",
       "      <td>[{\"iso_639_1\": \"en\", \"name\": \"English\"}]</td>\n",
       "      <td>Released</td>\n",
       "      <td>The Legend Ends</td>\n",
       "      <td>The Dark Knight Rises</td>\n",
       "      <td>7.6</td>\n",
       "      <td>9106</td>\n",
       "    </tr>\n",
       "    <tr>\n",
       "      <th>4</th>\n",
       "      <td>260000000</td>\n",
       "      <td>[{\"id\": 28, \"name\": \"Action\"}, {\"id\": 12, \"nam...</td>\n",
       "      <td>http://movies.disney.com/john-carter</td>\n",
       "      <td>49529</td>\n",
       "      <td>[{\"id\": 818, \"name\": \"based on novel\"}, {\"id\":...</td>\n",
       "      <td>en</td>\n",
       "      <td>John Carter</td>\n",
       "      <td>John Carter is a war-weary, former military ca...</td>\n",
       "      <td>43.926995</td>\n",
       "      <td>[{\"name\": \"Walt Disney Pictures\", \"id\": 2}]</td>\n",
       "      <td>[{\"iso_3166_1\": \"US\", \"name\": \"United States o...</td>\n",
       "      <td>2012-03-07</td>\n",
       "      <td>284139100</td>\n",
       "      <td>132.0</td>\n",
       "      <td>[{\"iso_639_1\": \"en\", \"name\": \"English\"}]</td>\n",
       "      <td>Released</td>\n",
       "      <td>Lost in our world, found in another.</td>\n",
       "      <td>John Carter</td>\n",
       "      <td>6.1</td>\n",
       "      <td>2124</td>\n",
       "    </tr>\n",
       "  </tbody>\n",
       "</table>\n",
       "</div>"
      ],
      "text/plain": [
       "      budget                                             genres  \\\n",
       "0  237000000  [{\"id\": 28, \"name\": \"Action\"}, {\"id\": 12, \"nam...   \n",
       "1  300000000  [{\"id\": 12, \"name\": \"Adventure\"}, {\"id\": 14, \"...   \n",
       "2  245000000  [{\"id\": 28, \"name\": \"Action\"}, {\"id\": 12, \"nam...   \n",
       "3  250000000  [{\"id\": 28, \"name\": \"Action\"}, {\"id\": 80, \"nam...   \n",
       "4  260000000  [{\"id\": 28, \"name\": \"Action\"}, {\"id\": 12, \"nam...   \n",
       "\n",
       "                                       homepage      id  \\\n",
       "0                   http://www.avatarmovie.com/   19995   \n",
       "1  http://disney.go.com/disneypictures/pirates/     285   \n",
       "2   http://www.sonypictures.com/movies/spectre/  206647   \n",
       "3            http://www.thedarkknightrises.com/   49026   \n",
       "4          http://movies.disney.com/john-carter   49529   \n",
       "\n",
       "                                            keywords original_language  \\\n",
       "0  [{\"id\": 1463, \"name\": \"culture clash\"}, {\"id\":...                en   \n",
       "1  [{\"id\": 270, \"name\": \"ocean\"}, {\"id\": 726, \"na...                en   \n",
       "2  [{\"id\": 470, \"name\": \"spy\"}, {\"id\": 818, \"name...                en   \n",
       "3  [{\"id\": 849, \"name\": \"dc comics\"}, {\"id\": 853,...                en   \n",
       "4  [{\"id\": 818, \"name\": \"based on novel\"}, {\"id\":...                en   \n",
       "\n",
       "                             original_title  \\\n",
       "0                                    Avatar   \n",
       "1  Pirates of the Caribbean: At World's End   \n",
       "2                                   Spectre   \n",
       "3                     The Dark Knight Rises   \n",
       "4                               John Carter   \n",
       "\n",
       "                                            overview  popularity  \\\n",
       "0  In the 22nd century, a paraplegic Marine is di...  150.437577   \n",
       "1  Captain Barbossa, long believed to be dead, ha...  139.082615   \n",
       "2  A cryptic message from Bond’s past sends him o...  107.376788   \n",
       "3  Following the death of District Attorney Harve...  112.312950   \n",
       "4  John Carter is a war-weary, former military ca...   43.926995   \n",
       "\n",
       "                                production_companies  \\\n",
       "0  [{\"name\": \"Ingenious Film Partners\", \"id\": 289...   \n",
       "1  [{\"name\": \"Walt Disney Pictures\", \"id\": 2}, {\"...   \n",
       "2  [{\"name\": \"Columbia Pictures\", \"id\": 5}, {\"nam...   \n",
       "3  [{\"name\": \"Legendary Pictures\", \"id\": 923}, {\"...   \n",
       "4        [{\"name\": \"Walt Disney Pictures\", \"id\": 2}]   \n",
       "\n",
       "                                production_countries release_date     revenue  \\\n",
       "0  [{\"iso_3166_1\": \"US\", \"name\": \"United States o...   2009-12-10  2787965087   \n",
       "1  [{\"iso_3166_1\": \"US\", \"name\": \"United States o...   2007-05-19   961000000   \n",
       "2  [{\"iso_3166_1\": \"GB\", \"name\": \"United Kingdom\"...   2015-10-26   880674609   \n",
       "3  [{\"iso_3166_1\": \"US\", \"name\": \"United States o...   2012-07-16  1084939099   \n",
       "4  [{\"iso_3166_1\": \"US\", \"name\": \"United States o...   2012-03-07   284139100   \n",
       "\n",
       "   runtime                                   spoken_languages    status  \\\n",
       "0    162.0  [{\"iso_639_1\": \"en\", \"name\": \"English\"}, {\"iso...  Released   \n",
       "1    169.0           [{\"iso_639_1\": \"en\", \"name\": \"English\"}]  Released   \n",
       "2    148.0  [{\"iso_639_1\": \"fr\", \"name\": \"Fran\\u00e7ais\"},...  Released   \n",
       "3    165.0           [{\"iso_639_1\": \"en\", \"name\": \"English\"}]  Released   \n",
       "4    132.0           [{\"iso_639_1\": \"en\", \"name\": \"English\"}]  Released   \n",
       "\n",
       "                                          tagline  \\\n",
       "0                     Enter the World of Pandora.   \n",
       "1  At the end of the world, the adventure begins.   \n",
       "2                           A Plan No One Escapes   \n",
       "3                                 The Legend Ends   \n",
       "4            Lost in our world, found in another.   \n",
       "\n",
       "                                      title  vote_average  vote_count  \n",
       "0                                    Avatar           7.2       11800  \n",
       "1  Pirates of the Caribbean: At World's End           6.9        4500  \n",
       "2                                   Spectre           6.3        4466  \n",
       "3                     The Dark Knight Rises           7.6        9106  \n",
       "4                               John Carter           6.1        2124  "
      ]
     },
     "execution_count": 5,
     "metadata": {},
     "output_type": "execute_result"
    }
   ],
   "source": [
    "# Display the first few rows of the loaded dataset\n",
    "movies_data.head()"
   ]
  },
  {
   "cell_type": "code",
   "execution_count": 6,
   "metadata": {
    "colab": {
     "base_uri": "https://localhost:8080/",
     "height": 206
    },
    "id": "qrVqvOwg_cCf",
    "outputId": "5720e744-18ce-4d26-c7cd-6f25f0eba518"
   },
   "outputs": [
    {
     "data": {
      "text/html": [
       "<div>\n",
       "<style scoped>\n",
       "    .dataframe tbody tr th:only-of-type {\n",
       "        vertical-align: middle;\n",
       "    }\n",
       "\n",
       "    .dataframe tbody tr th {\n",
       "        vertical-align: top;\n",
       "    }\n",
       "\n",
       "    .dataframe thead th {\n",
       "        text-align: right;\n",
       "    }\n",
       "</style>\n",
       "<table border=\"1\" class=\"dataframe\">\n",
       "  <thead>\n",
       "    <tr style=\"text-align: right;\">\n",
       "      <th></th>\n",
       "      <th>movie_id</th>\n",
       "      <th>title</th>\n",
       "      <th>cast</th>\n",
       "      <th>crew</th>\n",
       "    </tr>\n",
       "  </thead>\n",
       "  <tbody>\n",
       "    <tr>\n",
       "      <th>0</th>\n",
       "      <td>19995</td>\n",
       "      <td>Avatar</td>\n",
       "      <td>[{\"cast_id\": 242, \"character\": \"Jake Sully\", \"...</td>\n",
       "      <td>[{\"credit_id\": \"52fe48009251416c750aca23\", \"de...</td>\n",
       "    </tr>\n",
       "    <tr>\n",
       "      <th>1</th>\n",
       "      <td>285</td>\n",
       "      <td>Pirates of the Caribbean: At World's End</td>\n",
       "      <td>[{\"cast_id\": 4, \"character\": \"Captain Jack Spa...</td>\n",
       "      <td>[{\"credit_id\": \"52fe4232c3a36847f800b579\", \"de...</td>\n",
       "    </tr>\n",
       "    <tr>\n",
       "      <th>2</th>\n",
       "      <td>206647</td>\n",
       "      <td>Spectre</td>\n",
       "      <td>[{\"cast_id\": 1, \"character\": \"James Bond\", \"cr...</td>\n",
       "      <td>[{\"credit_id\": \"54805967c3a36829b5002c41\", \"de...</td>\n",
       "    </tr>\n",
       "    <tr>\n",
       "      <th>3</th>\n",
       "      <td>49026</td>\n",
       "      <td>The Dark Knight Rises</td>\n",
       "      <td>[{\"cast_id\": 2, \"character\": \"Bruce Wayne / Ba...</td>\n",
       "      <td>[{\"credit_id\": \"52fe4781c3a36847f81398c3\", \"de...</td>\n",
       "    </tr>\n",
       "    <tr>\n",
       "      <th>4</th>\n",
       "      <td>49529</td>\n",
       "      <td>John Carter</td>\n",
       "      <td>[{\"cast_id\": 5, \"character\": \"John Carter\", \"c...</td>\n",
       "      <td>[{\"credit_id\": \"52fe479ac3a36847f813eaa3\", \"de...</td>\n",
       "    </tr>\n",
       "  </tbody>\n",
       "</table>\n",
       "</div>"
      ],
      "text/plain": [
       "   movie_id                                     title  \\\n",
       "0     19995                                    Avatar   \n",
       "1       285  Pirates of the Caribbean: At World's End   \n",
       "2    206647                                   Spectre   \n",
       "3     49026                     The Dark Knight Rises   \n",
       "4     49529                               John Carter   \n",
       "\n",
       "                                                cast  \\\n",
       "0  [{\"cast_id\": 242, \"character\": \"Jake Sully\", \"...   \n",
       "1  [{\"cast_id\": 4, \"character\": \"Captain Jack Spa...   \n",
       "2  [{\"cast_id\": 1, \"character\": \"James Bond\", \"cr...   \n",
       "3  [{\"cast_id\": 2, \"character\": \"Bruce Wayne / Ba...   \n",
       "4  [{\"cast_id\": 5, \"character\": \"John Carter\", \"c...   \n",
       "\n",
       "                                                crew  \n",
       "0  [{\"credit_id\": \"52fe48009251416c750aca23\", \"de...  \n",
       "1  [{\"credit_id\": \"52fe4232c3a36847f800b579\", \"de...  \n",
       "2  [{\"credit_id\": \"54805967c3a36829b5002c41\", \"de...  \n",
       "3  [{\"credit_id\": \"52fe4781c3a36847f81398c3\", \"de...  \n",
       "4  [{\"credit_id\": \"52fe479ac3a36847f813eaa3\", \"de...  "
      ]
     },
     "execution_count": 6,
     "metadata": {},
     "output_type": "execute_result"
    }
   ],
   "source": [
    "# Display the first few rows of the loaded dataset\n",
    "credits_data.head()"
   ]
  },
  {
   "cell_type": "code",
   "execution_count": 7,
   "metadata": {
    "colab": {
     "base_uri": "https://localhost:8080/"
    },
    "id": "vINxVe8f2GZp",
    "outputId": "22b7ade1-6ec6-44f6-a413-0e4ff4f07acd"
   },
   "outputs": [
    {
     "name": "stdout",
     "output_type": "stream",
     "text": [
      "<class 'pandas.core.frame.DataFrame'>\n",
      "RangeIndex: 4803 entries, 0 to 4802\n",
      "Data columns (total 20 columns):\n",
      " #   Column                Non-Null Count  Dtype  \n",
      "---  ------                --------------  -----  \n",
      " 0   budget                4803 non-null   int64  \n",
      " 1   genres                4803 non-null   object \n",
      " 2   homepage              1712 non-null   object \n",
      " 3   id                    4803 non-null   int64  \n",
      " 4   keywords              4803 non-null   object \n",
      " 5   original_language     4803 non-null   object \n",
      " 6   original_title        4803 non-null   object \n",
      " 7   overview              4800 non-null   object \n",
      " 8   popularity            4803 non-null   float64\n",
      " 9   production_companies  4803 non-null   object \n",
      " 10  production_countries  4803 non-null   object \n",
      " 11  release_date          4802 non-null   object \n",
      " 12  revenue               4803 non-null   int64  \n",
      " 13  runtime               4801 non-null   float64\n",
      " 14  spoken_languages      4803 non-null   object \n",
      " 15  status                4803 non-null   object \n",
      " 16  tagline               3959 non-null   object \n",
      " 17  title                 4803 non-null   object \n",
      " 18  vote_average          4803 non-null   float64\n",
      " 19  vote_count            4803 non-null   int64  \n",
      "dtypes: float64(3), int64(4), object(13)\n",
      "memory usage: 750.6+ KB\n"
     ]
    }
   ],
   "source": [
    "movies_data.info()"
   ]
  },
  {
   "cell_type": "code",
   "execution_count": 8,
   "metadata": {
    "colab": {
     "base_uri": "https://localhost:8080/"
    },
    "id": "U2r0mCvZ8qiR",
    "outputId": "c2460c59-97ba-4e93-b524-c66983e29bd6"
   },
   "outputs": [
    {
     "name": "stdout",
     "output_type": "stream",
     "text": [
      "<class 'pandas.core.frame.DataFrame'>\n",
      "RangeIndex: 4803 entries, 0 to 4802\n",
      "Data columns (total 4 columns):\n",
      " #   Column    Non-Null Count  Dtype \n",
      "---  ------    --------------  ----- \n",
      " 0   movie_id  4803 non-null   int64 \n",
      " 1   title     4803 non-null   object\n",
      " 2   cast      4803 non-null   object\n",
      " 3   crew      4803 non-null   object\n",
      "dtypes: int64(1), object(3)\n",
      "memory usage: 150.2+ KB\n"
     ]
    }
   ],
   "source": [
    "credits_data.info()"
   ]
  },
  {
   "cell_type": "code",
   "execution_count": 9,
   "metadata": {
    "colab": {
     "base_uri": "https://localhost:8080/"
    },
    "id": "XH4FKmQvGxGs",
    "outputId": "471a6fdd-a85c-4cc5-b75d-6f6374c900aa"
   },
   "outputs": [
    {
     "data": {
      "text/plain": [
       "Index(['movie_id', 'title', 'cast', 'crew'], dtype='object')"
      ]
     },
     "execution_count": 9,
     "metadata": {},
     "output_type": "execute_result"
    }
   ],
   "source": [
    "credits_data.columns"
   ]
  },
  {
   "cell_type": "code",
   "execution_count": 10,
   "metadata": {
    "colab": {
     "base_uri": "https://localhost:8080/"
    },
    "id": "8ft7DLDYG0IP",
    "outputId": "ac4a2809-9de6-40e9-8f8e-0bd114994bf5"
   },
   "outputs": [
    {
     "data": {
      "text/plain": [
       "Index(['budget', 'genres', 'homepage', 'id', 'keywords', 'original_language',\n",
       "       'original_title', 'overview', 'popularity', 'production_companies',\n",
       "       'production_countries', 'release_date', 'revenue', 'runtime',\n",
       "       'spoken_languages', 'status', 'tagline', 'title', 'vote_average',\n",
       "       'vote_count'],\n",
       "      dtype='object')"
      ]
     },
     "execution_count": 10,
     "metadata": {},
     "output_type": "execute_result"
    }
   ],
   "source": [
    "movies_data.columns"
   ]
  },
  {
   "cell_type": "code",
   "execution_count": 11,
   "metadata": {
    "id": "wFbezRliHknM"
   },
   "outputs": [],
   "source": [
    "# Let's join the two dataset on the 'id' column\n",
    "data1= movies_data.merge(credits_data,on='title')\n",
    "\n",
    "#data1.head()"
   ]
  },
  {
   "cell_type": "code",
   "execution_count": 12,
   "metadata": {
    "colab": {
     "base_uri": "https://localhost:8080/"
    },
    "id": "RJ1iO8oWECUW",
    "outputId": "33db68ed-b69a-4ecb-9bd1-2f1b9b181218"
   },
   "outputs": [
    {
     "data": {
      "text/plain": [
       "(4809, 23)"
      ]
     },
     "execution_count": 12,
     "metadata": {},
     "output_type": "execute_result"
    }
   ],
   "source": [
    "data1.shape"
   ]
  },
  {
   "cell_type": "code",
   "execution_count": 13,
   "metadata": {
    "colab": {
     "base_uri": "https://localhost:8080/"
    },
    "id": "eiSYaNbcKbMu",
    "outputId": "fc3be7c6-2b65-4804-d668-6655aacdb44b"
   },
   "outputs": [
    {
     "data": {
      "text/plain": [
       "Index(['budget', 'genres', 'homepage', 'id', 'keywords', 'original_language',\n",
       "       'original_title', 'overview', 'popularity', 'production_companies',\n",
       "       'production_countries', 'release_date', 'revenue', 'runtime',\n",
       "       'spoken_languages', 'status', 'tagline', 'title', 'vote_average',\n",
       "       'vote_count', 'movie_id', 'cast', 'crew'],\n",
       "      dtype='object')"
      ]
     },
     "execution_count": 13,
     "metadata": {},
     "output_type": "execute_result"
    }
   ],
   "source": [
    "data1.columns"
   ]
  },
  {
   "cell_type": "code",
   "execution_count": 14,
   "metadata": {
    "id": "qPRV-hWyD-lp"
   },
   "outputs": [],
   "source": [
    "data1 = data1[['id','title','overview','genres','keywords','cast','crew']]"
   ]
  },
  {
   "cell_type": "code",
   "execution_count": 15,
   "metadata": {
    "colab": {
     "base_uri": "https://localhost:8080/",
     "height": 293
    },
    "id": "p8VHGaBHL8wC",
    "outputId": "84a60f8b-64e2-4462-d86d-cf5ced0b8be5"
   },
   "outputs": [
    {
     "data": {
      "text/html": [
       "<div>\n",
       "<style scoped>\n",
       "    .dataframe tbody tr th:only-of-type {\n",
       "        vertical-align: middle;\n",
       "    }\n",
       "\n",
       "    .dataframe tbody tr th {\n",
       "        vertical-align: top;\n",
       "    }\n",
       "\n",
       "    .dataframe thead th {\n",
       "        text-align: right;\n",
       "    }\n",
       "</style>\n",
       "<table border=\"1\" class=\"dataframe\">\n",
       "  <thead>\n",
       "    <tr style=\"text-align: right;\">\n",
       "      <th></th>\n",
       "      <th>id</th>\n",
       "      <th>title</th>\n",
       "      <th>overview</th>\n",
       "      <th>genres</th>\n",
       "      <th>keywords</th>\n",
       "      <th>cast</th>\n",
       "      <th>crew</th>\n",
       "    </tr>\n",
       "  </thead>\n",
       "  <tbody>\n",
       "    <tr>\n",
       "      <th>0</th>\n",
       "      <td>19995</td>\n",
       "      <td>Avatar</td>\n",
       "      <td>In the 22nd century, a paraplegic Marine is di...</td>\n",
       "      <td>[{\"id\": 28, \"name\": \"Action\"}, {\"id\": 12, \"nam...</td>\n",
       "      <td>[{\"id\": 1463, \"name\": \"culture clash\"}, {\"id\":...</td>\n",
       "      <td>[{\"cast_id\": 242, \"character\": \"Jake Sully\", \"...</td>\n",
       "      <td>[{\"credit_id\": \"52fe48009251416c750aca23\", \"de...</td>\n",
       "    </tr>\n",
       "    <tr>\n",
       "      <th>1</th>\n",
       "      <td>285</td>\n",
       "      <td>Pirates of the Caribbean: At World's End</td>\n",
       "      <td>Captain Barbossa, long believed to be dead, ha...</td>\n",
       "      <td>[{\"id\": 12, \"name\": \"Adventure\"}, {\"id\": 14, \"...</td>\n",
       "      <td>[{\"id\": 270, \"name\": \"ocean\"}, {\"id\": 726, \"na...</td>\n",
       "      <td>[{\"cast_id\": 4, \"character\": \"Captain Jack Spa...</td>\n",
       "      <td>[{\"credit_id\": \"52fe4232c3a36847f800b579\", \"de...</td>\n",
       "    </tr>\n",
       "    <tr>\n",
       "      <th>2</th>\n",
       "      <td>206647</td>\n",
       "      <td>Spectre</td>\n",
       "      <td>A cryptic message from Bond’s past sends him o...</td>\n",
       "      <td>[{\"id\": 28, \"name\": \"Action\"}, {\"id\": 12, \"nam...</td>\n",
       "      <td>[{\"id\": 470, \"name\": \"spy\"}, {\"id\": 818, \"name...</td>\n",
       "      <td>[{\"cast_id\": 1, \"character\": \"James Bond\", \"cr...</td>\n",
       "      <td>[{\"credit_id\": \"54805967c3a36829b5002c41\", \"de...</td>\n",
       "    </tr>\n",
       "    <tr>\n",
       "      <th>3</th>\n",
       "      <td>49026</td>\n",
       "      <td>The Dark Knight Rises</td>\n",
       "      <td>Following the death of District Attorney Harve...</td>\n",
       "      <td>[{\"id\": 28, \"name\": \"Action\"}, {\"id\": 80, \"nam...</td>\n",
       "      <td>[{\"id\": 849, \"name\": \"dc comics\"}, {\"id\": 853,...</td>\n",
       "      <td>[{\"cast_id\": 2, \"character\": \"Bruce Wayne / Ba...</td>\n",
       "      <td>[{\"credit_id\": \"52fe4781c3a36847f81398c3\", \"de...</td>\n",
       "    </tr>\n",
       "    <tr>\n",
       "      <th>4</th>\n",
       "      <td>49529</td>\n",
       "      <td>John Carter</td>\n",
       "      <td>John Carter is a war-weary, former military ca...</td>\n",
       "      <td>[{\"id\": 28, \"name\": \"Action\"}, {\"id\": 12, \"nam...</td>\n",
       "      <td>[{\"id\": 818, \"name\": \"based on novel\"}, {\"id\":...</td>\n",
       "      <td>[{\"cast_id\": 5, \"character\": \"John Carter\", \"c...</td>\n",
       "      <td>[{\"credit_id\": \"52fe479ac3a36847f813eaa3\", \"de...</td>\n",
       "    </tr>\n",
       "  </tbody>\n",
       "</table>\n",
       "</div>"
      ],
      "text/plain": [
       "       id                                     title  \\\n",
       "0   19995                                    Avatar   \n",
       "1     285  Pirates of the Caribbean: At World's End   \n",
       "2  206647                                   Spectre   \n",
       "3   49026                     The Dark Knight Rises   \n",
       "4   49529                               John Carter   \n",
       "\n",
       "                                            overview  \\\n",
       "0  In the 22nd century, a paraplegic Marine is di...   \n",
       "1  Captain Barbossa, long believed to be dead, ha...   \n",
       "2  A cryptic message from Bond’s past sends him o...   \n",
       "3  Following the death of District Attorney Harve...   \n",
       "4  John Carter is a war-weary, former military ca...   \n",
       "\n",
       "                                              genres  \\\n",
       "0  [{\"id\": 28, \"name\": \"Action\"}, {\"id\": 12, \"nam...   \n",
       "1  [{\"id\": 12, \"name\": \"Adventure\"}, {\"id\": 14, \"...   \n",
       "2  [{\"id\": 28, \"name\": \"Action\"}, {\"id\": 12, \"nam...   \n",
       "3  [{\"id\": 28, \"name\": \"Action\"}, {\"id\": 80, \"nam...   \n",
       "4  [{\"id\": 28, \"name\": \"Action\"}, {\"id\": 12, \"nam...   \n",
       "\n",
       "                                            keywords  \\\n",
       "0  [{\"id\": 1463, \"name\": \"culture clash\"}, {\"id\":...   \n",
       "1  [{\"id\": 270, \"name\": \"ocean\"}, {\"id\": 726, \"na...   \n",
       "2  [{\"id\": 470, \"name\": \"spy\"}, {\"id\": 818, \"name...   \n",
       "3  [{\"id\": 849, \"name\": \"dc comics\"}, {\"id\": 853,...   \n",
       "4  [{\"id\": 818, \"name\": \"based on novel\"}, {\"id\":...   \n",
       "\n",
       "                                                cast  \\\n",
       "0  [{\"cast_id\": 242, \"character\": \"Jake Sully\", \"...   \n",
       "1  [{\"cast_id\": 4, \"character\": \"Captain Jack Spa...   \n",
       "2  [{\"cast_id\": 1, \"character\": \"James Bond\", \"cr...   \n",
       "3  [{\"cast_id\": 2, \"character\": \"Bruce Wayne / Ba...   \n",
       "4  [{\"cast_id\": 5, \"character\": \"John Carter\", \"c...   \n",
       "\n",
       "                                                crew  \n",
       "0  [{\"credit_id\": \"52fe48009251416c750aca23\", \"de...  \n",
       "1  [{\"credit_id\": \"52fe4232c3a36847f800b579\", \"de...  \n",
       "2  [{\"credit_id\": \"54805967c3a36829b5002c41\", \"de...  \n",
       "3  [{\"credit_id\": \"52fe4781c3a36847f81398c3\", \"de...  \n",
       "4  [{\"credit_id\": \"52fe479ac3a36847f813eaa3\", \"de...  "
      ]
     },
     "execution_count": 15,
     "metadata": {},
     "output_type": "execute_result"
    }
   ],
   "source": [
    "data1.head()"
   ]
  },
  {
   "cell_type": "code",
   "execution_count": 16,
   "metadata": {
    "colab": {
     "base_uri": "https://localhost:8080/"
    },
    "id": "SRtkKHscMUn-",
    "outputId": "25ee0451-e5df-45b5-f9c7-94b3aae7ca39"
   },
   "outputs": [
    {
     "data": {
      "text/plain": [
       "id          0\n",
       "title       0\n",
       "overview    3\n",
       "genres      0\n",
       "keywords    0\n",
       "cast        0\n",
       "crew        0\n",
       "dtype: int64"
      ]
     },
     "execution_count": 16,
     "metadata": {},
     "output_type": "execute_result"
    }
   ],
   "source": [
    "data1.isnull().sum()"
   ]
  },
  {
   "cell_type": "code",
   "execution_count": 17,
   "metadata": {
    "colab": {
     "base_uri": "https://localhost:8080/"
    },
    "id": "PbbNA7XXMg5c",
    "outputId": "40b2ae9d-2b3e-4d5b-bab0-3086bbedb76d"
   },
   "outputs": [
    {
     "data": {
      "text/plain": [
       "0       In the 22nd century, a paraplegic Marine is di...\n",
       "1       Captain Barbossa, long believed to be dead, ha...\n",
       "2       A cryptic message from Bond’s past sends him o...\n",
       "3       Following the death of District Attorney Harve...\n",
       "4       John Carter is a war-weary, former military ca...\n",
       "                              ...                        \n",
       "4804    El Mariachi just wants to play his guitar and ...\n",
       "4805    A newlywed couple's honeymoon is upended by th...\n",
       "4806    \"Signed, Sealed, Delivered\" introduces a dedic...\n",
       "4807    When ambitious New York attorney Sam is sent t...\n",
       "4808    Ever since the second grade when he first saw ...\n",
       "Name: overview, Length: 4809, dtype: object"
      ]
     },
     "execution_count": 17,
     "metadata": {},
     "output_type": "execute_result"
    }
   ],
   "source": [
    "data1.overview"
   ]
  },
  {
   "cell_type": "code",
   "execution_count": 18,
   "metadata": {
    "id": "W8SDkWgrMrDM"
   },
   "outputs": [],
   "source": [
    "data1.dropna(inplace=True)"
   ]
  },
  {
   "cell_type": "code",
   "execution_count": 19,
   "metadata": {
    "colab": {
     "base_uri": "https://localhost:8080/"
    },
    "id": "VDeSQGQ6M3dg",
    "outputId": "66d03a29-3234-484d-dec4-9022a58ed84a"
   },
   "outputs": [
    {
     "data": {
      "text/plain": [
       "id          0\n",
       "title       0\n",
       "overview    0\n",
       "genres      0\n",
       "keywords    0\n",
       "cast        0\n",
       "crew        0\n",
       "dtype: int64"
      ]
     },
     "execution_count": 19,
     "metadata": {},
     "output_type": "execute_result"
    }
   ],
   "source": [
    "data1.isnull().sum()"
   ]
  },
  {
   "cell_type": "code",
   "execution_count": 20,
   "metadata": {
    "colab": {
     "base_uri": "https://localhost:8080/",
     "height": 53
    },
    "id": "-ejWFwmqM7Em",
    "outputId": "b2efec43-8ab5-4525-f3b6-3fc656efa5bf"
   },
   "outputs": [
    {
     "data": {
      "text/html": [
       "<div>\n",
       "<style scoped>\n",
       "    .dataframe tbody tr th:only-of-type {\n",
       "        vertical-align: middle;\n",
       "    }\n",
       "\n",
       "    .dataframe tbody tr th {\n",
       "        vertical-align: top;\n",
       "    }\n",
       "\n",
       "    .dataframe thead th {\n",
       "        text-align: right;\n",
       "    }\n",
       "</style>\n",
       "<table border=\"1\" class=\"dataframe\">\n",
       "  <thead>\n",
       "    <tr style=\"text-align: right;\">\n",
       "      <th></th>\n",
       "      <th>id</th>\n",
       "      <th>title</th>\n",
       "      <th>overview</th>\n",
       "      <th>genres</th>\n",
       "      <th>keywords</th>\n",
       "      <th>cast</th>\n",
       "      <th>crew</th>\n",
       "    </tr>\n",
       "  </thead>\n",
       "  <tbody>\n",
       "  </tbody>\n",
       "</table>\n",
       "</div>"
      ],
      "text/plain": [
       "Empty DataFrame\n",
       "Columns: [id, title, overview, genres, keywords, cast, crew]\n",
       "Index: []"
      ]
     },
     "execution_count": 20,
     "metadata": {},
     "output_type": "execute_result"
    }
   ],
   "source": [
    "data1[data1.duplicated(keep=False)]"
   ]
  },
  {
   "cell_type": "code",
   "execution_count": 21,
   "metadata": {
    "id": "yTudPJzpNrn5"
   },
   "outputs": [],
   "source": [
    "import ast\n",
    "def convert(obj):\n",
    "    L = []\n",
    "    for i in ast.literal_eval(obj):\n",
    "        L.append(i['name'])\n",
    "    return L"
   ]
  },
  {
   "cell_type": "code",
   "execution_count": 22,
   "metadata": {
    "id": "PdB2gRdKOgm2"
   },
   "outputs": [],
   "source": [
    "data1['genres'] = data1['genres'].apply(convert)\n",
    "data1['keywords'] = data1['keywords'].apply(convert)"
   ]
  },
  {
   "cell_type": "code",
   "execution_count": 23,
   "metadata": {
    "colab": {
     "base_uri": "https://localhost:8080/",
     "height": 293
    },
    "id": "7RkbEBczPRJ7",
    "outputId": "d8553f0a-c876-42ca-f151-4fc9c5377a54"
   },
   "outputs": [
    {
     "data": {
      "text/html": [
       "<div>\n",
       "<style scoped>\n",
       "    .dataframe tbody tr th:only-of-type {\n",
       "        vertical-align: middle;\n",
       "    }\n",
       "\n",
       "    .dataframe tbody tr th {\n",
       "        vertical-align: top;\n",
       "    }\n",
       "\n",
       "    .dataframe thead th {\n",
       "        text-align: right;\n",
       "    }\n",
       "</style>\n",
       "<table border=\"1\" class=\"dataframe\">\n",
       "  <thead>\n",
       "    <tr style=\"text-align: right;\">\n",
       "      <th></th>\n",
       "      <th>id</th>\n",
       "      <th>title</th>\n",
       "      <th>overview</th>\n",
       "      <th>genres</th>\n",
       "      <th>keywords</th>\n",
       "      <th>cast</th>\n",
       "      <th>crew</th>\n",
       "    </tr>\n",
       "  </thead>\n",
       "  <tbody>\n",
       "    <tr>\n",
       "      <th>0</th>\n",
       "      <td>19995</td>\n",
       "      <td>Avatar</td>\n",
       "      <td>In the 22nd century, a paraplegic Marine is di...</td>\n",
       "      <td>[Action, Adventure, Fantasy, Science Fiction]</td>\n",
       "      <td>[culture clash, future, space war, space colon...</td>\n",
       "      <td>[{\"cast_id\": 242, \"character\": \"Jake Sully\", \"...</td>\n",
       "      <td>[{\"credit_id\": \"52fe48009251416c750aca23\", \"de...</td>\n",
       "    </tr>\n",
       "    <tr>\n",
       "      <th>1</th>\n",
       "      <td>285</td>\n",
       "      <td>Pirates of the Caribbean: At World's End</td>\n",
       "      <td>Captain Barbossa, long believed to be dead, ha...</td>\n",
       "      <td>[Adventure, Fantasy, Action]</td>\n",
       "      <td>[ocean, drug abuse, exotic island, east india ...</td>\n",
       "      <td>[{\"cast_id\": 4, \"character\": \"Captain Jack Spa...</td>\n",
       "      <td>[{\"credit_id\": \"52fe4232c3a36847f800b579\", \"de...</td>\n",
       "    </tr>\n",
       "    <tr>\n",
       "      <th>2</th>\n",
       "      <td>206647</td>\n",
       "      <td>Spectre</td>\n",
       "      <td>A cryptic message from Bond’s past sends him o...</td>\n",
       "      <td>[Action, Adventure, Crime]</td>\n",
       "      <td>[spy, based on novel, secret agent, sequel, mi...</td>\n",
       "      <td>[{\"cast_id\": 1, \"character\": \"James Bond\", \"cr...</td>\n",
       "      <td>[{\"credit_id\": \"54805967c3a36829b5002c41\", \"de...</td>\n",
       "    </tr>\n",
       "    <tr>\n",
       "      <th>3</th>\n",
       "      <td>49026</td>\n",
       "      <td>The Dark Knight Rises</td>\n",
       "      <td>Following the death of District Attorney Harve...</td>\n",
       "      <td>[Action, Crime, Drama, Thriller]</td>\n",
       "      <td>[dc comics, crime fighter, terrorist, secret i...</td>\n",
       "      <td>[{\"cast_id\": 2, \"character\": \"Bruce Wayne / Ba...</td>\n",
       "      <td>[{\"credit_id\": \"52fe4781c3a36847f81398c3\", \"de...</td>\n",
       "    </tr>\n",
       "    <tr>\n",
       "      <th>4</th>\n",
       "      <td>49529</td>\n",
       "      <td>John Carter</td>\n",
       "      <td>John Carter is a war-weary, former military ca...</td>\n",
       "      <td>[Action, Adventure, Science Fiction]</td>\n",
       "      <td>[based on novel, mars, medallion, space travel...</td>\n",
       "      <td>[{\"cast_id\": 5, \"character\": \"John Carter\", \"c...</td>\n",
       "      <td>[{\"credit_id\": \"52fe479ac3a36847f813eaa3\", \"de...</td>\n",
       "    </tr>\n",
       "  </tbody>\n",
       "</table>\n",
       "</div>"
      ],
      "text/plain": [
       "       id                                     title  \\\n",
       "0   19995                                    Avatar   \n",
       "1     285  Pirates of the Caribbean: At World's End   \n",
       "2  206647                                   Spectre   \n",
       "3   49026                     The Dark Knight Rises   \n",
       "4   49529                               John Carter   \n",
       "\n",
       "                                            overview  \\\n",
       "0  In the 22nd century, a paraplegic Marine is di...   \n",
       "1  Captain Barbossa, long believed to be dead, ha...   \n",
       "2  A cryptic message from Bond’s past sends him o...   \n",
       "3  Following the death of District Attorney Harve...   \n",
       "4  John Carter is a war-weary, former military ca...   \n",
       "\n",
       "                                          genres  \\\n",
       "0  [Action, Adventure, Fantasy, Science Fiction]   \n",
       "1                   [Adventure, Fantasy, Action]   \n",
       "2                     [Action, Adventure, Crime]   \n",
       "3               [Action, Crime, Drama, Thriller]   \n",
       "4           [Action, Adventure, Science Fiction]   \n",
       "\n",
       "                                            keywords  \\\n",
       "0  [culture clash, future, space war, space colon...   \n",
       "1  [ocean, drug abuse, exotic island, east india ...   \n",
       "2  [spy, based on novel, secret agent, sequel, mi...   \n",
       "3  [dc comics, crime fighter, terrorist, secret i...   \n",
       "4  [based on novel, mars, medallion, space travel...   \n",
       "\n",
       "                                                cast  \\\n",
       "0  [{\"cast_id\": 242, \"character\": \"Jake Sully\", \"...   \n",
       "1  [{\"cast_id\": 4, \"character\": \"Captain Jack Spa...   \n",
       "2  [{\"cast_id\": 1, \"character\": \"James Bond\", \"cr...   \n",
       "3  [{\"cast_id\": 2, \"character\": \"Bruce Wayne / Ba...   \n",
       "4  [{\"cast_id\": 5, \"character\": \"John Carter\", \"c...   \n",
       "\n",
       "                                                crew  \n",
       "0  [{\"credit_id\": \"52fe48009251416c750aca23\", \"de...  \n",
       "1  [{\"credit_id\": \"52fe4232c3a36847f800b579\", \"de...  \n",
       "2  [{\"credit_id\": \"54805967c3a36829b5002c41\", \"de...  \n",
       "3  [{\"credit_id\": \"52fe4781c3a36847f81398c3\", \"de...  \n",
       "4  [{\"credit_id\": \"52fe479ac3a36847f813eaa3\", \"de...  "
      ]
     },
     "execution_count": 23,
     "metadata": {},
     "output_type": "execute_result"
    }
   ],
   "source": [
    "data1.head(5)"
   ]
  },
  {
   "cell_type": "code",
   "execution_count": 24,
   "metadata": {
    "id": "xV0JkWz5Ph-w"
   },
   "outputs": [],
   "source": [
    "def top3(obj):\n",
    "    L = []\n",
    "    counter = 0\n",
    "    for i in ast.literal_eval(obj):\n",
    "        if counter != 3:\n",
    "            L.append(i['name'])\n",
    "            counter += 1\n",
    "        else:\n",
    "            break\n",
    "    return L"
   ]
  },
  {
   "cell_type": "code",
   "execution_count": 25,
   "metadata": {
    "id": "awquU97pPkdl"
   },
   "outputs": [],
   "source": [
    "data1['cast'] = data1['cast'].apply(top3)"
   ]
  },
  {
   "cell_type": "code",
   "execution_count": 26,
   "metadata": {
    "colab": {
     "base_uri": "https://localhost:8080/",
     "height": 293
    },
    "id": "iGShGP64upSB",
    "outputId": "17c10913-9776-43ec-a056-4a7a0cea5af5"
   },
   "outputs": [
    {
     "data": {
      "text/html": [
       "<div>\n",
       "<style scoped>\n",
       "    .dataframe tbody tr th:only-of-type {\n",
       "        vertical-align: middle;\n",
       "    }\n",
       "\n",
       "    .dataframe tbody tr th {\n",
       "        vertical-align: top;\n",
       "    }\n",
       "\n",
       "    .dataframe thead th {\n",
       "        text-align: right;\n",
       "    }\n",
       "</style>\n",
       "<table border=\"1\" class=\"dataframe\">\n",
       "  <thead>\n",
       "    <tr style=\"text-align: right;\">\n",
       "      <th></th>\n",
       "      <th>id</th>\n",
       "      <th>title</th>\n",
       "      <th>overview</th>\n",
       "      <th>genres</th>\n",
       "      <th>keywords</th>\n",
       "      <th>cast</th>\n",
       "      <th>crew</th>\n",
       "    </tr>\n",
       "  </thead>\n",
       "  <tbody>\n",
       "    <tr>\n",
       "      <th>0</th>\n",
       "      <td>19995</td>\n",
       "      <td>Avatar</td>\n",
       "      <td>In the 22nd century, a paraplegic Marine is di...</td>\n",
       "      <td>[Action, Adventure, Fantasy, Science Fiction]</td>\n",
       "      <td>[culture clash, future, space war, space colon...</td>\n",
       "      <td>[Sam Worthington, Zoe Saldana, Sigourney Weaver]</td>\n",
       "      <td>[{\"credit_id\": \"52fe48009251416c750aca23\", \"de...</td>\n",
       "    </tr>\n",
       "    <tr>\n",
       "      <th>1</th>\n",
       "      <td>285</td>\n",
       "      <td>Pirates of the Caribbean: At World's End</td>\n",
       "      <td>Captain Barbossa, long believed to be dead, ha...</td>\n",
       "      <td>[Adventure, Fantasy, Action]</td>\n",
       "      <td>[ocean, drug abuse, exotic island, east india ...</td>\n",
       "      <td>[Johnny Depp, Orlando Bloom, Keira Knightley]</td>\n",
       "      <td>[{\"credit_id\": \"52fe4232c3a36847f800b579\", \"de...</td>\n",
       "    </tr>\n",
       "    <tr>\n",
       "      <th>2</th>\n",
       "      <td>206647</td>\n",
       "      <td>Spectre</td>\n",
       "      <td>A cryptic message from Bond’s past sends him o...</td>\n",
       "      <td>[Action, Adventure, Crime]</td>\n",
       "      <td>[spy, based on novel, secret agent, sequel, mi...</td>\n",
       "      <td>[Daniel Craig, Christoph Waltz, Léa Seydoux]</td>\n",
       "      <td>[{\"credit_id\": \"54805967c3a36829b5002c41\", \"de...</td>\n",
       "    </tr>\n",
       "    <tr>\n",
       "      <th>3</th>\n",
       "      <td>49026</td>\n",
       "      <td>The Dark Knight Rises</td>\n",
       "      <td>Following the death of District Attorney Harve...</td>\n",
       "      <td>[Action, Crime, Drama, Thriller]</td>\n",
       "      <td>[dc comics, crime fighter, terrorist, secret i...</td>\n",
       "      <td>[Christian Bale, Michael Caine, Gary Oldman]</td>\n",
       "      <td>[{\"credit_id\": \"52fe4781c3a36847f81398c3\", \"de...</td>\n",
       "    </tr>\n",
       "    <tr>\n",
       "      <th>4</th>\n",
       "      <td>49529</td>\n",
       "      <td>John Carter</td>\n",
       "      <td>John Carter is a war-weary, former military ca...</td>\n",
       "      <td>[Action, Adventure, Science Fiction]</td>\n",
       "      <td>[based on novel, mars, medallion, space travel...</td>\n",
       "      <td>[Taylor Kitsch, Lynn Collins, Samantha Morton]</td>\n",
       "      <td>[{\"credit_id\": \"52fe479ac3a36847f813eaa3\", \"de...</td>\n",
       "    </tr>\n",
       "  </tbody>\n",
       "</table>\n",
       "</div>"
      ],
      "text/plain": [
       "       id                                     title  \\\n",
       "0   19995                                    Avatar   \n",
       "1     285  Pirates of the Caribbean: At World's End   \n",
       "2  206647                                   Spectre   \n",
       "3   49026                     The Dark Knight Rises   \n",
       "4   49529                               John Carter   \n",
       "\n",
       "                                            overview  \\\n",
       "0  In the 22nd century, a paraplegic Marine is di...   \n",
       "1  Captain Barbossa, long believed to be dead, ha...   \n",
       "2  A cryptic message from Bond’s past sends him o...   \n",
       "3  Following the death of District Attorney Harve...   \n",
       "4  John Carter is a war-weary, former military ca...   \n",
       "\n",
       "                                          genres  \\\n",
       "0  [Action, Adventure, Fantasy, Science Fiction]   \n",
       "1                   [Adventure, Fantasy, Action]   \n",
       "2                     [Action, Adventure, Crime]   \n",
       "3               [Action, Crime, Drama, Thriller]   \n",
       "4           [Action, Adventure, Science Fiction]   \n",
       "\n",
       "                                            keywords  \\\n",
       "0  [culture clash, future, space war, space colon...   \n",
       "1  [ocean, drug abuse, exotic island, east india ...   \n",
       "2  [spy, based on novel, secret agent, sequel, mi...   \n",
       "3  [dc comics, crime fighter, terrorist, secret i...   \n",
       "4  [based on novel, mars, medallion, space travel...   \n",
       "\n",
       "                                               cast  \\\n",
       "0  [Sam Worthington, Zoe Saldana, Sigourney Weaver]   \n",
       "1     [Johnny Depp, Orlando Bloom, Keira Knightley]   \n",
       "2      [Daniel Craig, Christoph Waltz, Léa Seydoux]   \n",
       "3      [Christian Bale, Michael Caine, Gary Oldman]   \n",
       "4    [Taylor Kitsch, Lynn Collins, Samantha Morton]   \n",
       "\n",
       "                                                crew  \n",
       "0  [{\"credit_id\": \"52fe48009251416c750aca23\", \"de...  \n",
       "1  [{\"credit_id\": \"52fe4232c3a36847f800b579\", \"de...  \n",
       "2  [{\"credit_id\": \"54805967c3a36829b5002c41\", \"de...  \n",
       "3  [{\"credit_id\": \"52fe4781c3a36847f81398c3\", \"de...  \n",
       "4  [{\"credit_id\": \"52fe479ac3a36847f813eaa3\", \"de...  "
      ]
     },
     "execution_count": 26,
     "metadata": {},
     "output_type": "execute_result"
    }
   ],
   "source": [
    "data1.head()"
   ]
  },
  {
   "cell_type": "code",
   "execution_count": 27,
   "metadata": {
    "id": "Kec3xCgAy4-N"
   },
   "outputs": [],
   "source": [
    "def fetchdir(obj):\n",
    "    L = []\n",
    "    for i in ast.literal_eval(obj):\n",
    "        if i['job']=='Director':\n",
    "            L.append(i['name'])\n",
    "    return L"
   ]
  },
  {
   "cell_type": "code",
   "execution_count": 28,
   "metadata": {
    "id": "yJsmVhoGzBd-"
   },
   "outputs": [],
   "source": [
    "data1['crew'] = data1['crew'].apply(fetchdir)"
   ]
  },
  {
   "cell_type": "code",
   "execution_count": 29,
   "metadata": {
    "colab": {
     "base_uri": "https://localhost:8080/",
     "height": 147
    },
    "id": "ZTSGQnyizKNU",
    "outputId": "8830fa4b-d997-456a-f7b3-ae1884db66df"
   },
   "outputs": [
    {
     "data": {
      "text/html": [
       "<div>\n",
       "<style scoped>\n",
       "    .dataframe tbody tr th:only-of-type {\n",
       "        vertical-align: middle;\n",
       "    }\n",
       "\n",
       "    .dataframe tbody tr th {\n",
       "        vertical-align: top;\n",
       "    }\n",
       "\n",
       "    .dataframe thead th {\n",
       "        text-align: right;\n",
       "    }\n",
       "</style>\n",
       "<table border=\"1\" class=\"dataframe\">\n",
       "  <thead>\n",
       "    <tr style=\"text-align: right;\">\n",
       "      <th></th>\n",
       "      <th>id</th>\n",
       "      <th>title</th>\n",
       "      <th>overview</th>\n",
       "      <th>genres</th>\n",
       "      <th>keywords</th>\n",
       "      <th>cast</th>\n",
       "      <th>crew</th>\n",
       "    </tr>\n",
       "  </thead>\n",
       "  <tbody>\n",
       "    <tr>\n",
       "      <th>0</th>\n",
       "      <td>19995</td>\n",
       "      <td>Avatar</td>\n",
       "      <td>In the 22nd century, a paraplegic Marine is di...</td>\n",
       "      <td>[Action, Adventure, Fantasy, Science Fiction]</td>\n",
       "      <td>[culture clash, future, space war, space colon...</td>\n",
       "      <td>[Sam Worthington, Zoe Saldana, Sigourney Weaver]</td>\n",
       "      <td>[James Cameron]</td>\n",
       "    </tr>\n",
       "    <tr>\n",
       "      <th>1</th>\n",
       "      <td>285</td>\n",
       "      <td>Pirates of the Caribbean: At World's End</td>\n",
       "      <td>Captain Barbossa, long believed to be dead, ha...</td>\n",
       "      <td>[Adventure, Fantasy, Action]</td>\n",
       "      <td>[ocean, drug abuse, exotic island, east india ...</td>\n",
       "      <td>[Johnny Depp, Orlando Bloom, Keira Knightley]</td>\n",
       "      <td>[Gore Verbinski]</td>\n",
       "    </tr>\n",
       "  </tbody>\n",
       "</table>\n",
       "</div>"
      ],
      "text/plain": [
       "      id                                     title  \\\n",
       "0  19995                                    Avatar   \n",
       "1    285  Pirates of the Caribbean: At World's End   \n",
       "\n",
       "                                            overview  \\\n",
       "0  In the 22nd century, a paraplegic Marine is di...   \n",
       "1  Captain Barbossa, long believed to be dead, ha...   \n",
       "\n",
       "                                          genres  \\\n",
       "0  [Action, Adventure, Fantasy, Science Fiction]   \n",
       "1                   [Adventure, Fantasy, Action]   \n",
       "\n",
       "                                            keywords  \\\n",
       "0  [culture clash, future, space war, space colon...   \n",
       "1  [ocean, drug abuse, exotic island, east india ...   \n",
       "\n",
       "                                               cast              crew  \n",
       "0  [Sam Worthington, Zoe Saldana, Sigourney Weaver]   [James Cameron]  \n",
       "1     [Johnny Depp, Orlando Bloom, Keira Knightley]  [Gore Verbinski]  "
      ]
     },
     "execution_count": 29,
     "metadata": {},
     "output_type": "execute_result"
    }
   ],
   "source": [
    "data1.head(2)"
   ]
  },
  {
   "cell_type": "code",
   "execution_count": 30,
   "metadata": {
    "colab": {
     "base_uri": "https://localhost:8080/",
     "height": 36
    },
    "id": "5dptJJm80C8d",
    "outputId": "51660d83-2eba-4c7a-9e7a-ec8681f35572"
   },
   "outputs": [
    {
     "data": {
      "text/plain": [
       "'In the 22nd century, a paraplegic Marine is dispatched to the moon Pandora on a unique mission, but becomes torn between following orders and protecting an alien civilization.'"
      ]
     },
     "execution_count": 30,
     "metadata": {},
     "output_type": "execute_result"
    }
   ],
   "source": [
    "data1.overview[0]"
   ]
  },
  {
   "cell_type": "code",
   "execution_count": 31,
   "metadata": {
    "id": "R4mmXjFOz7cw"
   },
   "outputs": [],
   "source": [
    "data1['overview'] = data1['overview'].apply(lambda x: x.split())"
   ]
  },
  {
   "cell_type": "code",
   "execution_count": 32,
   "metadata": {
    "colab": {
     "base_uri": "https://localhost:8080/"
    },
    "id": "gyDrlAH11hq1",
    "outputId": "c40fb598-8e84-4f24-c961-6c2ba307a5cd"
   },
   "outputs": [
    {
     "data": {
      "text/plain": [
       "['In',\n",
       " 'the',\n",
       " '22nd',\n",
       " 'century,',\n",
       " 'a',\n",
       " 'paraplegic',\n",
       " 'Marine',\n",
       " 'is',\n",
       " 'dispatched',\n",
       " 'to',\n",
       " 'the',\n",
       " 'moon',\n",
       " 'Pandora',\n",
       " 'on',\n",
       " 'a',\n",
       " 'unique',\n",
       " 'mission,',\n",
       " 'but',\n",
       " 'becomes',\n",
       " 'torn',\n",
       " 'between',\n",
       " 'following',\n",
       " 'orders',\n",
       " 'and',\n",
       " 'protecting',\n",
       " 'an',\n",
       " 'alien',\n",
       " 'civilization.']"
      ]
     },
     "execution_count": 32,
     "metadata": {},
     "output_type": "execute_result"
    }
   ],
   "source": [
    "data1.overview[0]"
   ]
  },
  {
   "cell_type": "code",
   "execution_count": 33,
   "metadata": {
    "colab": {
     "base_uri": "https://localhost:8080/",
     "height": 195
    },
    "id": "kpTbuA-W1kc_",
    "outputId": "fd950e44-eb61-4f05-909d-b3839788324b"
   },
   "outputs": [
    {
     "data": {
      "text/html": [
       "<div>\n",
       "<style scoped>\n",
       "    .dataframe tbody tr th:only-of-type {\n",
       "        vertical-align: middle;\n",
       "    }\n",
       "\n",
       "    .dataframe tbody tr th {\n",
       "        vertical-align: top;\n",
       "    }\n",
       "\n",
       "    .dataframe thead th {\n",
       "        text-align: right;\n",
       "    }\n",
       "</style>\n",
       "<table border=\"1\" class=\"dataframe\">\n",
       "  <thead>\n",
       "    <tr style=\"text-align: right;\">\n",
       "      <th></th>\n",
       "      <th>id</th>\n",
       "      <th>title</th>\n",
       "      <th>overview</th>\n",
       "      <th>genres</th>\n",
       "      <th>keywords</th>\n",
       "      <th>cast</th>\n",
       "      <th>crew</th>\n",
       "    </tr>\n",
       "  </thead>\n",
       "  <tbody>\n",
       "    <tr>\n",
       "      <th>0</th>\n",
       "      <td>19995</td>\n",
       "      <td>Avatar</td>\n",
       "      <td>[In, the, 22nd, century,, a, paraplegic, Marin...</td>\n",
       "      <td>[Action, Adventure, Fantasy, Science Fiction]</td>\n",
       "      <td>[culture clash, future, space war, space colon...</td>\n",
       "      <td>[Sam Worthington, Zoe Saldana, Sigourney Weaver]</td>\n",
       "      <td>[James Cameron]</td>\n",
       "    </tr>\n",
       "    <tr>\n",
       "      <th>1</th>\n",
       "      <td>285</td>\n",
       "      <td>Pirates of the Caribbean: At World's End</td>\n",
       "      <td>[Captain, Barbossa,, long, believed, to, be, d...</td>\n",
       "      <td>[Adventure, Fantasy, Action]</td>\n",
       "      <td>[ocean, drug abuse, exotic island, east india ...</td>\n",
       "      <td>[Johnny Depp, Orlando Bloom, Keira Knightley]</td>\n",
       "      <td>[Gore Verbinski]</td>\n",
       "    </tr>\n",
       "    <tr>\n",
       "      <th>2</th>\n",
       "      <td>206647</td>\n",
       "      <td>Spectre</td>\n",
       "      <td>[A, cryptic, message, from, Bond’s, past, send...</td>\n",
       "      <td>[Action, Adventure, Crime]</td>\n",
       "      <td>[spy, based on novel, secret agent, sequel, mi...</td>\n",
       "      <td>[Daniel Craig, Christoph Waltz, Léa Seydoux]</td>\n",
       "      <td>[Sam Mendes]</td>\n",
       "    </tr>\n",
       "  </tbody>\n",
       "</table>\n",
       "</div>"
      ],
      "text/plain": [
       "       id                                     title  \\\n",
       "0   19995                                    Avatar   \n",
       "1     285  Pirates of the Caribbean: At World's End   \n",
       "2  206647                                   Spectre   \n",
       "\n",
       "                                            overview  \\\n",
       "0  [In, the, 22nd, century,, a, paraplegic, Marin...   \n",
       "1  [Captain, Barbossa,, long, believed, to, be, d...   \n",
       "2  [A, cryptic, message, from, Bond’s, past, send...   \n",
       "\n",
       "                                          genres  \\\n",
       "0  [Action, Adventure, Fantasy, Science Fiction]   \n",
       "1                   [Adventure, Fantasy, Action]   \n",
       "2                     [Action, Adventure, Crime]   \n",
       "\n",
       "                                            keywords  \\\n",
       "0  [culture clash, future, space war, space colon...   \n",
       "1  [ocean, drug abuse, exotic island, east india ...   \n",
       "2  [spy, based on novel, secret agent, sequel, mi...   \n",
       "\n",
       "                                               cast              crew  \n",
       "0  [Sam Worthington, Zoe Saldana, Sigourney Weaver]   [James Cameron]  \n",
       "1     [Johnny Depp, Orlando Bloom, Keira Knightley]  [Gore Verbinski]  \n",
       "2      [Daniel Craig, Christoph Waltz, Léa Seydoux]      [Sam Mendes]  "
      ]
     },
     "execution_count": 33,
     "metadata": {},
     "output_type": "execute_result"
    }
   ],
   "source": [
    "data1.head(3)"
   ]
  },
  {
   "cell_type": "code",
   "execution_count": 34,
   "metadata": {
    "id": "e1__Quu616MF"
   },
   "outputs": [],
   "source": [
    "# Remove the Spaces\n",
    "data1['genres'] = data1['genres'].apply(lambda x: [i.replace(\" \",\"\") for i in x])\n",
    "data1['keywords'] = data1['keywords'].apply(lambda x: [i.replace(\" \",\"\") for i in x])\n",
    "data1['crew'] = data1['crew'].apply(lambda x: [i.replace(\" \",\"\") for i in x])\n",
    "data1['cast'] = data1['cast'].apply(lambda x: [i.replace(\" \",\"\") for i in x])"
   ]
  },
  {
   "cell_type": "code",
   "execution_count": 35,
   "metadata": {
    "colab": {
     "base_uri": "https://localhost:8080/",
     "height": 293
    },
    "id": "MTbBKbDV2hUJ",
    "outputId": "8b22a88a-a142-44f9-8ec5-19b96ed02e98"
   },
   "outputs": [
    {
     "data": {
      "text/html": [
       "<div>\n",
       "<style scoped>\n",
       "    .dataframe tbody tr th:only-of-type {\n",
       "        vertical-align: middle;\n",
       "    }\n",
       "\n",
       "    .dataframe tbody tr th {\n",
       "        vertical-align: top;\n",
       "    }\n",
       "\n",
       "    .dataframe thead th {\n",
       "        text-align: right;\n",
       "    }\n",
       "</style>\n",
       "<table border=\"1\" class=\"dataframe\">\n",
       "  <thead>\n",
       "    <tr style=\"text-align: right;\">\n",
       "      <th></th>\n",
       "      <th>id</th>\n",
       "      <th>title</th>\n",
       "      <th>overview</th>\n",
       "      <th>genres</th>\n",
       "      <th>keywords</th>\n",
       "      <th>cast</th>\n",
       "      <th>crew</th>\n",
       "    </tr>\n",
       "  </thead>\n",
       "  <tbody>\n",
       "    <tr>\n",
       "      <th>0</th>\n",
       "      <td>19995</td>\n",
       "      <td>Avatar</td>\n",
       "      <td>[In, the, 22nd, century,, a, paraplegic, Marin...</td>\n",
       "      <td>[Action, Adventure, Fantasy, ScienceFiction]</td>\n",
       "      <td>[cultureclash, future, spacewar, spacecolony, ...</td>\n",
       "      <td>[SamWorthington, ZoeSaldana, SigourneyWeaver]</td>\n",
       "      <td>[JamesCameron]</td>\n",
       "    </tr>\n",
       "    <tr>\n",
       "      <th>1</th>\n",
       "      <td>285</td>\n",
       "      <td>Pirates of the Caribbean: At World's End</td>\n",
       "      <td>[Captain, Barbossa,, long, believed, to, be, d...</td>\n",
       "      <td>[Adventure, Fantasy, Action]</td>\n",
       "      <td>[ocean, drugabuse, exoticisland, eastindiatrad...</td>\n",
       "      <td>[JohnnyDepp, OrlandoBloom, KeiraKnightley]</td>\n",
       "      <td>[GoreVerbinski]</td>\n",
       "    </tr>\n",
       "    <tr>\n",
       "      <th>2</th>\n",
       "      <td>206647</td>\n",
       "      <td>Spectre</td>\n",
       "      <td>[A, cryptic, message, from, Bond’s, past, send...</td>\n",
       "      <td>[Action, Adventure, Crime]</td>\n",
       "      <td>[spy, basedonnovel, secretagent, sequel, mi6, ...</td>\n",
       "      <td>[DanielCraig, ChristophWaltz, LéaSeydoux]</td>\n",
       "      <td>[SamMendes]</td>\n",
       "    </tr>\n",
       "    <tr>\n",
       "      <th>3</th>\n",
       "      <td>49026</td>\n",
       "      <td>The Dark Knight Rises</td>\n",
       "      <td>[Following, the, death, of, District, Attorney...</td>\n",
       "      <td>[Action, Crime, Drama, Thriller]</td>\n",
       "      <td>[dccomics, crimefighter, terrorist, secretiden...</td>\n",
       "      <td>[ChristianBale, MichaelCaine, GaryOldman]</td>\n",
       "      <td>[ChristopherNolan]</td>\n",
       "    </tr>\n",
       "    <tr>\n",
       "      <th>4</th>\n",
       "      <td>49529</td>\n",
       "      <td>John Carter</td>\n",
       "      <td>[John, Carter, is, a, war-weary,, former, mili...</td>\n",
       "      <td>[Action, Adventure, ScienceFiction]</td>\n",
       "      <td>[basedonnovel, mars, medallion, spacetravel, p...</td>\n",
       "      <td>[TaylorKitsch, LynnCollins, SamanthaMorton]</td>\n",
       "      <td>[AndrewStanton]</td>\n",
       "    </tr>\n",
       "  </tbody>\n",
       "</table>\n",
       "</div>"
      ],
      "text/plain": [
       "       id                                     title  \\\n",
       "0   19995                                    Avatar   \n",
       "1     285  Pirates of the Caribbean: At World's End   \n",
       "2  206647                                   Spectre   \n",
       "3   49026                     The Dark Knight Rises   \n",
       "4   49529                               John Carter   \n",
       "\n",
       "                                            overview  \\\n",
       "0  [In, the, 22nd, century,, a, paraplegic, Marin...   \n",
       "1  [Captain, Barbossa,, long, believed, to, be, d...   \n",
       "2  [A, cryptic, message, from, Bond’s, past, send...   \n",
       "3  [Following, the, death, of, District, Attorney...   \n",
       "4  [John, Carter, is, a, war-weary,, former, mili...   \n",
       "\n",
       "                                         genres  \\\n",
       "0  [Action, Adventure, Fantasy, ScienceFiction]   \n",
       "1                  [Adventure, Fantasy, Action]   \n",
       "2                    [Action, Adventure, Crime]   \n",
       "3              [Action, Crime, Drama, Thriller]   \n",
       "4           [Action, Adventure, ScienceFiction]   \n",
       "\n",
       "                                            keywords  \\\n",
       "0  [cultureclash, future, spacewar, spacecolony, ...   \n",
       "1  [ocean, drugabuse, exoticisland, eastindiatrad...   \n",
       "2  [spy, basedonnovel, secretagent, sequel, mi6, ...   \n",
       "3  [dccomics, crimefighter, terrorist, secretiden...   \n",
       "4  [basedonnovel, mars, medallion, spacetravel, p...   \n",
       "\n",
       "                                            cast                crew  \n",
       "0  [SamWorthington, ZoeSaldana, SigourneyWeaver]      [JamesCameron]  \n",
       "1     [JohnnyDepp, OrlandoBloom, KeiraKnightley]     [GoreVerbinski]  \n",
       "2      [DanielCraig, ChristophWaltz, LéaSeydoux]         [SamMendes]  \n",
       "3      [ChristianBale, MichaelCaine, GaryOldman]  [ChristopherNolan]  \n",
       "4    [TaylorKitsch, LynnCollins, SamanthaMorton]     [AndrewStanton]  "
      ]
     },
     "execution_count": 35,
     "metadata": {},
     "output_type": "execute_result"
    }
   ],
   "source": [
    "data1.head()"
   ]
  },
  {
   "cell_type": "code",
   "execution_count": 36,
   "metadata": {
    "id": "vXohGtmZ2qAz"
   },
   "outputs": [],
   "source": [
    "data1['tags'] = data1['overview'] + data1['genres'] + data1['keywords'] + data1['cast'] + data1['crew']"
   ]
  },
  {
   "cell_type": "code",
   "execution_count": 37,
   "metadata": {
    "colab": {
     "base_uri": "https://localhost:8080/"
    },
    "id": "IWuSXPN13HLV",
    "outputId": "b8841609-e123-4940-8568-a9348bdf85a1"
   },
   "outputs": [
    {
     "data": {
      "text/plain": [
       "Index(['id', 'title', 'overview', 'genres', 'keywords', 'cast', 'crew',\n",
       "       'tags'],\n",
       "      dtype='object')"
      ]
     },
     "execution_count": 37,
     "metadata": {},
     "output_type": "execute_result"
    }
   ],
   "source": [
    "data1.columns"
   ]
  },
  {
   "cell_type": "code",
   "execution_count": 38,
   "metadata": {
    "colab": {
     "base_uri": "https://localhost:8080/",
     "height": 423
    },
    "id": "1Arkj0-h22xO",
    "outputId": "fc57b1f7-c06f-475b-94c9-16f3dd1d088e"
   },
   "outputs": [
    {
     "data": {
      "text/html": [
       "<div>\n",
       "<style scoped>\n",
       "    .dataframe tbody tr th:only-of-type {\n",
       "        vertical-align: middle;\n",
       "    }\n",
       "\n",
       "    .dataframe tbody tr th {\n",
       "        vertical-align: top;\n",
       "    }\n",
       "\n",
       "    .dataframe thead th {\n",
       "        text-align: right;\n",
       "    }\n",
       "</style>\n",
       "<table border=\"1\" class=\"dataframe\">\n",
       "  <thead>\n",
       "    <tr style=\"text-align: right;\">\n",
       "      <th></th>\n",
       "      <th>id</th>\n",
       "      <th>title</th>\n",
       "      <th>tags</th>\n",
       "    </tr>\n",
       "  </thead>\n",
       "  <tbody>\n",
       "    <tr>\n",
       "      <th>0</th>\n",
       "      <td>19995</td>\n",
       "      <td>Avatar</td>\n",
       "      <td>[In, the, 22nd, century,, a, paraplegic, Marin...</td>\n",
       "    </tr>\n",
       "    <tr>\n",
       "      <th>1</th>\n",
       "      <td>285</td>\n",
       "      <td>Pirates of the Caribbean: At World's End</td>\n",
       "      <td>[Captain, Barbossa,, long, believed, to, be, d...</td>\n",
       "    </tr>\n",
       "    <tr>\n",
       "      <th>2</th>\n",
       "      <td>206647</td>\n",
       "      <td>Spectre</td>\n",
       "      <td>[A, cryptic, message, from, Bond’s, past, send...</td>\n",
       "    </tr>\n",
       "    <tr>\n",
       "      <th>3</th>\n",
       "      <td>49026</td>\n",
       "      <td>The Dark Knight Rises</td>\n",
       "      <td>[Following, the, death, of, District, Attorney...</td>\n",
       "    </tr>\n",
       "    <tr>\n",
       "      <th>4</th>\n",
       "      <td>49529</td>\n",
       "      <td>John Carter</td>\n",
       "      <td>[John, Carter, is, a, war-weary,, former, mili...</td>\n",
       "    </tr>\n",
       "    <tr>\n",
       "      <th>...</th>\n",
       "      <td>...</td>\n",
       "      <td>...</td>\n",
       "      <td>...</td>\n",
       "    </tr>\n",
       "    <tr>\n",
       "      <th>4804</th>\n",
       "      <td>9367</td>\n",
       "      <td>El Mariachi</td>\n",
       "      <td>[El, Mariachi, just, wants, to, play, his, gui...</td>\n",
       "    </tr>\n",
       "    <tr>\n",
       "      <th>4805</th>\n",
       "      <td>72766</td>\n",
       "      <td>Newlyweds</td>\n",
       "      <td>[A, newlywed, couple's, honeymoon, is, upended...</td>\n",
       "    </tr>\n",
       "    <tr>\n",
       "      <th>4806</th>\n",
       "      <td>231617</td>\n",
       "      <td>Signed, Sealed, Delivered</td>\n",
       "      <td>[\"Signed,, Sealed,, Delivered\", introduces, a,...</td>\n",
       "    </tr>\n",
       "    <tr>\n",
       "      <th>4807</th>\n",
       "      <td>126186</td>\n",
       "      <td>Shanghai Calling</td>\n",
       "      <td>[When, ambitious, New, York, attorney, Sam, is...</td>\n",
       "    </tr>\n",
       "    <tr>\n",
       "      <th>4808</th>\n",
       "      <td>25975</td>\n",
       "      <td>My Date with Drew</td>\n",
       "      <td>[Ever, since, the, second, grade, when, he, fi...</td>\n",
       "    </tr>\n",
       "  </tbody>\n",
       "</table>\n",
       "<p>4806 rows × 3 columns</p>\n",
       "</div>"
      ],
      "text/plain": [
       "          id                                     title  \\\n",
       "0      19995                                    Avatar   \n",
       "1        285  Pirates of the Caribbean: At World's End   \n",
       "2     206647                                   Spectre   \n",
       "3      49026                     The Dark Knight Rises   \n",
       "4      49529                               John Carter   \n",
       "...      ...                                       ...   \n",
       "4804    9367                               El Mariachi   \n",
       "4805   72766                                 Newlyweds   \n",
       "4806  231617                 Signed, Sealed, Delivered   \n",
       "4807  126186                          Shanghai Calling   \n",
       "4808   25975                         My Date with Drew   \n",
       "\n",
       "                                                   tags  \n",
       "0     [In, the, 22nd, century,, a, paraplegic, Marin...  \n",
       "1     [Captain, Barbossa,, long, believed, to, be, d...  \n",
       "2     [A, cryptic, message, from, Bond’s, past, send...  \n",
       "3     [Following, the, death, of, District, Attorney...  \n",
       "4     [John, Carter, is, a, war-weary,, former, mili...  \n",
       "...                                                 ...  \n",
       "4804  [El, Mariachi, just, wants, to, play, his, gui...  \n",
       "4805  [A, newlywed, couple's, honeymoon, is, upended...  \n",
       "4806  [\"Signed,, Sealed,, Delivered\", introduces, a,...  \n",
       "4807  [When, ambitious, New, York, attorney, Sam, is...  \n",
       "4808  [Ever, since, the, second, grade, when, he, fi...  \n",
       "\n",
       "[4806 rows x 3 columns]"
      ]
     },
     "execution_count": 38,
     "metadata": {},
     "output_type": "execute_result"
    }
   ],
   "source": [
    "new_data = data1[['id','title','tags']]\n",
    "new_data"
   ]
  },
  {
   "cell_type": "code",
   "execution_count": 39,
   "metadata": {
    "colab": {
     "base_uri": "https://localhost:8080/",
     "height": 73
    },
    "id": "Wzd9FViw3fyv",
    "outputId": "edff37ff-ad26-405f-8316-68e955b95b23"
   },
   "outputs": [
    {
     "data": {
      "text/plain": [
       "'In the 22nd century, a paraplegic Marine is dispatched to the moon Pandora on a unique mission, but becomes torn between following orders and protecting an alien civilization. Action Adventure Fantasy ScienceFiction cultureclash future spacewar spacecolony society spacetravel futuristic romance space alien tribe alienplanet cgi marine soldier battle loveaffair antiwar powerrelations mindandsoul 3d SamWorthington ZoeSaldana SigourneyWeaver JamesCameron'"
      ]
     },
     "execution_count": 39,
     "metadata": {},
     "output_type": "execute_result"
    }
   ],
   "source": [
    "result = \" \".join(new_data['tags'][0])\n",
    "result"
   ]
  },
  {
   "cell_type": "code",
   "execution_count": 40,
   "metadata": {
    "colab": {
     "base_uri": "https://localhost:8080/",
     "height": 423
    },
    "id": "9kWuMKkF3XWG",
    "outputId": "ab697d69-8a0c-44c6-c4e0-adbbfde2e838"
   },
   "outputs": [
    {
     "data": {
      "text/html": [
       "<div>\n",
       "<style scoped>\n",
       "    .dataframe tbody tr th:only-of-type {\n",
       "        vertical-align: middle;\n",
       "    }\n",
       "\n",
       "    .dataframe tbody tr th {\n",
       "        vertical-align: top;\n",
       "    }\n",
       "\n",
       "    .dataframe thead th {\n",
       "        text-align: right;\n",
       "    }\n",
       "</style>\n",
       "<table border=\"1\" class=\"dataframe\">\n",
       "  <thead>\n",
       "    <tr style=\"text-align: right;\">\n",
       "      <th></th>\n",
       "      <th>id</th>\n",
       "      <th>title</th>\n",
       "      <th>tags</th>\n",
       "    </tr>\n",
       "  </thead>\n",
       "  <tbody>\n",
       "    <tr>\n",
       "      <th>0</th>\n",
       "      <td>19995</td>\n",
       "      <td>Avatar</td>\n",
       "      <td>In the 22nd century, a paraplegic Marine is di...</td>\n",
       "    </tr>\n",
       "    <tr>\n",
       "      <th>1</th>\n",
       "      <td>285</td>\n",
       "      <td>Pirates of the Caribbean: At World's End</td>\n",
       "      <td>Captain Barbossa, long believed to be dead, ha...</td>\n",
       "    </tr>\n",
       "    <tr>\n",
       "      <th>2</th>\n",
       "      <td>206647</td>\n",
       "      <td>Spectre</td>\n",
       "      <td>A cryptic message from Bond’s past sends him o...</td>\n",
       "    </tr>\n",
       "    <tr>\n",
       "      <th>3</th>\n",
       "      <td>49026</td>\n",
       "      <td>The Dark Knight Rises</td>\n",
       "      <td>Following the death of District Attorney Harve...</td>\n",
       "    </tr>\n",
       "    <tr>\n",
       "      <th>4</th>\n",
       "      <td>49529</td>\n",
       "      <td>John Carter</td>\n",
       "      <td>John Carter is a war-weary, former military ca...</td>\n",
       "    </tr>\n",
       "    <tr>\n",
       "      <th>...</th>\n",
       "      <td>...</td>\n",
       "      <td>...</td>\n",
       "      <td>...</td>\n",
       "    </tr>\n",
       "    <tr>\n",
       "      <th>4804</th>\n",
       "      <td>9367</td>\n",
       "      <td>El Mariachi</td>\n",
       "      <td>El Mariachi just wants to play his guitar and ...</td>\n",
       "    </tr>\n",
       "    <tr>\n",
       "      <th>4805</th>\n",
       "      <td>72766</td>\n",
       "      <td>Newlyweds</td>\n",
       "      <td>A newlywed couple's honeymoon is upended by th...</td>\n",
       "    </tr>\n",
       "    <tr>\n",
       "      <th>4806</th>\n",
       "      <td>231617</td>\n",
       "      <td>Signed, Sealed, Delivered</td>\n",
       "      <td>\"Signed, Sealed, Delivered\" introduces a dedic...</td>\n",
       "    </tr>\n",
       "    <tr>\n",
       "      <th>4807</th>\n",
       "      <td>126186</td>\n",
       "      <td>Shanghai Calling</td>\n",
       "      <td>When ambitious New York attorney Sam is sent t...</td>\n",
       "    </tr>\n",
       "    <tr>\n",
       "      <th>4808</th>\n",
       "      <td>25975</td>\n",
       "      <td>My Date with Drew</td>\n",
       "      <td>Ever since the second grade when he first saw ...</td>\n",
       "    </tr>\n",
       "  </tbody>\n",
       "</table>\n",
       "<p>4806 rows × 3 columns</p>\n",
       "</div>"
      ],
      "text/plain": [
       "          id                                     title  \\\n",
       "0      19995                                    Avatar   \n",
       "1        285  Pirates of the Caribbean: At World's End   \n",
       "2     206647                                   Spectre   \n",
       "3      49026                     The Dark Knight Rises   \n",
       "4      49529                               John Carter   \n",
       "...      ...                                       ...   \n",
       "4804    9367                               El Mariachi   \n",
       "4805   72766                                 Newlyweds   \n",
       "4806  231617                 Signed, Sealed, Delivered   \n",
       "4807  126186                          Shanghai Calling   \n",
       "4808   25975                         My Date with Drew   \n",
       "\n",
       "                                                   tags  \n",
       "0     In the 22nd century, a paraplegic Marine is di...  \n",
       "1     Captain Barbossa, long believed to be dead, ha...  \n",
       "2     A cryptic message from Bond’s past sends him o...  \n",
       "3     Following the death of District Attorney Harve...  \n",
       "4     John Carter is a war-weary, former military ca...  \n",
       "...                                                 ...  \n",
       "4804  El Mariachi just wants to play his guitar and ...  \n",
       "4805  A newlywed couple's honeymoon is upended by th...  \n",
       "4806  \"Signed, Sealed, Delivered\" introduces a dedic...  \n",
       "4807  When ambitious New York attorney Sam is sent t...  \n",
       "4808  Ever since the second grade when he first saw ...  \n",
       "\n",
       "[4806 rows x 3 columns]"
      ]
     },
     "execution_count": 40,
     "metadata": {},
     "output_type": "execute_result"
    }
   ],
   "source": [
    "new_data['tags'] = new_data['tags'].apply(lambda x: \" \".join(x))\n",
    "new_data"
   ]
  },
  {
   "cell_type": "code",
   "execution_count": null,
   "metadata": {
    "id": "LL5zS-dn3R_r"
   },
   "outputs": [],
   "source": []
  },
  {
   "cell_type": "code",
   "execution_count": 41,
   "metadata": {
    "colab": {
     "base_uri": "https://localhost:8080/",
     "height": 423
    },
    "id": "OpHHBV637uxf",
    "outputId": "b643cd79-71f5-489c-f16f-7ae59fa42f14"
   },
   "outputs": [
    {
     "data": {
      "text/html": [
       "<div>\n",
       "<style scoped>\n",
       "    .dataframe tbody tr th:only-of-type {\n",
       "        vertical-align: middle;\n",
       "    }\n",
       "\n",
       "    .dataframe tbody tr th {\n",
       "        vertical-align: top;\n",
       "    }\n",
       "\n",
       "    .dataframe thead th {\n",
       "        text-align: right;\n",
       "    }\n",
       "</style>\n",
       "<table border=\"1\" class=\"dataframe\">\n",
       "  <thead>\n",
       "    <tr style=\"text-align: right;\">\n",
       "      <th></th>\n",
       "      <th>id</th>\n",
       "      <th>title</th>\n",
       "      <th>tags</th>\n",
       "    </tr>\n",
       "  </thead>\n",
       "  <tbody>\n",
       "    <tr>\n",
       "      <th>0</th>\n",
       "      <td>19995</td>\n",
       "      <td>Avatar</td>\n",
       "      <td>in the 22nd century, a paraplegic marine is di...</td>\n",
       "    </tr>\n",
       "    <tr>\n",
       "      <th>1</th>\n",
       "      <td>285</td>\n",
       "      <td>Pirates of the Caribbean: At World's End</td>\n",
       "      <td>captain barbossa, long believed to be dead, ha...</td>\n",
       "    </tr>\n",
       "    <tr>\n",
       "      <th>2</th>\n",
       "      <td>206647</td>\n",
       "      <td>Spectre</td>\n",
       "      <td>a cryptic message from bond’s past sends him o...</td>\n",
       "    </tr>\n",
       "    <tr>\n",
       "      <th>3</th>\n",
       "      <td>49026</td>\n",
       "      <td>The Dark Knight Rises</td>\n",
       "      <td>following the death of district attorney harve...</td>\n",
       "    </tr>\n",
       "    <tr>\n",
       "      <th>4</th>\n",
       "      <td>49529</td>\n",
       "      <td>John Carter</td>\n",
       "      <td>john carter is a war-weary, former military ca...</td>\n",
       "    </tr>\n",
       "    <tr>\n",
       "      <th>...</th>\n",
       "      <td>...</td>\n",
       "      <td>...</td>\n",
       "      <td>...</td>\n",
       "    </tr>\n",
       "    <tr>\n",
       "      <th>4804</th>\n",
       "      <td>9367</td>\n",
       "      <td>El Mariachi</td>\n",
       "      <td>el mariachi just wants to play his guitar and ...</td>\n",
       "    </tr>\n",
       "    <tr>\n",
       "      <th>4805</th>\n",
       "      <td>72766</td>\n",
       "      <td>Newlyweds</td>\n",
       "      <td>a newlywed couple's honeymoon is upended by th...</td>\n",
       "    </tr>\n",
       "    <tr>\n",
       "      <th>4806</th>\n",
       "      <td>231617</td>\n",
       "      <td>Signed, Sealed, Delivered</td>\n",
       "      <td>\"signed, sealed, delivered\" introduces a dedic...</td>\n",
       "    </tr>\n",
       "    <tr>\n",
       "      <th>4807</th>\n",
       "      <td>126186</td>\n",
       "      <td>Shanghai Calling</td>\n",
       "      <td>when ambitious new york attorney sam is sent t...</td>\n",
       "    </tr>\n",
       "    <tr>\n",
       "      <th>4808</th>\n",
       "      <td>25975</td>\n",
       "      <td>My Date with Drew</td>\n",
       "      <td>ever since the second grade when he first saw ...</td>\n",
       "    </tr>\n",
       "  </tbody>\n",
       "</table>\n",
       "<p>4806 rows × 3 columns</p>\n",
       "</div>"
      ],
      "text/plain": [
       "          id                                     title  \\\n",
       "0      19995                                    Avatar   \n",
       "1        285  Pirates of the Caribbean: At World's End   \n",
       "2     206647                                   Spectre   \n",
       "3      49026                     The Dark Knight Rises   \n",
       "4      49529                               John Carter   \n",
       "...      ...                                       ...   \n",
       "4804    9367                               El Mariachi   \n",
       "4805   72766                                 Newlyweds   \n",
       "4806  231617                 Signed, Sealed, Delivered   \n",
       "4807  126186                          Shanghai Calling   \n",
       "4808   25975                         My Date with Drew   \n",
       "\n",
       "                                                   tags  \n",
       "0     in the 22nd century, a paraplegic marine is di...  \n",
       "1     captain barbossa, long believed to be dead, ha...  \n",
       "2     a cryptic message from bond’s past sends him o...  \n",
       "3     following the death of district attorney harve...  \n",
       "4     john carter is a war-weary, former military ca...  \n",
       "...                                                 ...  \n",
       "4804  el mariachi just wants to play his guitar and ...  \n",
       "4805  a newlywed couple's honeymoon is upended by th...  \n",
       "4806  \"signed, sealed, delivered\" introduces a dedic...  \n",
       "4807  when ambitious new york attorney sam is sent t...  \n",
       "4808  ever since the second grade when he first saw ...  \n",
       "\n",
       "[4806 rows x 3 columns]"
      ]
     },
     "execution_count": 41,
     "metadata": {},
     "output_type": "execute_result"
    }
   ],
   "source": [
    "# Convert tgas to lower case\n",
    "new_data['tags']=new_data['tags'].apply(lambda x:x.lower())\n",
    "new_data"
   ]
  },
  {
   "cell_type": "code",
   "execution_count": null,
   "metadata": {
    "id": "5FwRG8W770Qw"
   },
   "outputs": [],
   "source": []
  },
  {
   "cell_type": "code",
   "execution_count": 42,
   "metadata": {
    "colab": {
     "base_uri": "https://localhost:8080/"
    },
    "id": "yE2omRAn8CiC",
    "outputId": "da11e985-e76d-4ac2-b3e3-86fb94b498d0"
   },
   "outputs": [
    {
     "data": {
      "text/plain": [
       "0       in the 22nd century, a paraplegic marine is di...\n",
       "1       captain barbossa, long believed to be dead, ha...\n",
       "2       a cryptic message from bond’s past sends him o...\n",
       "3       following the death of district attorney harve...\n",
       "4       john carter is a war-weary, former military ca...\n",
       "                              ...                        \n",
       "4804    el mariachi just wants to play his guitar and ...\n",
       "4805    a newlywed couple's honeymoon is upended by th...\n",
       "4806    \"signed, sealed, delivered\" introduces a dedic...\n",
       "4807    when ambitious new york attorney sam is sent t...\n",
       "4808    ever since the second grade when he first saw ...\n",
       "Name: tags, Length: 4806, dtype: object"
      ]
     },
     "execution_count": 42,
     "metadata": {},
     "output_type": "execute_result"
    }
   ],
   "source": [
    "new_data['tags']"
   ]
  },
  {
   "cell_type": "code",
   "execution_count": 43,
   "metadata": {
    "id": "h6FUa6nP8S_N"
   },
   "outputs": [],
   "source": [
    "# Do the stemming\n",
    "import nltk\n",
    "\n",
    "from nltk.stem import PorterStemmer\n",
    "stemmer = PorterStemmer()"
   ]
  },
  {
   "cell_type": "code",
   "execution_count": 44,
   "metadata": {
    "colab": {
     "base_uri": "https://localhost:8080/",
     "height": 36
    },
    "id": "RIBwScdm9YLv",
    "outputId": "e38b2805-c5ee-4f97-a869-ab438696e632"
   },
   "outputs": [
    {
     "data": {
      "text/plain": [
       "'superpow'"
      ]
     },
     "execution_count": 44,
     "metadata": {},
     "output_type": "execute_result"
    }
   ],
   "source": [
    "stemmer.stem('superpower')"
   ]
  },
  {
   "cell_type": "code",
   "execution_count": 45,
   "metadata": {
    "colab": {
     "base_uri": "https://localhost:8080/",
     "height": 73
    },
    "id": "JJBRRT9J-Exl",
    "outputId": "4fa12895-7dae-47db-efd0-369294f2c0bd"
   },
   "outputs": [
    {
     "data": {
      "text/plain": [
       "'in the 22nd century, a paraplegic marine is dispatched to the moon pandora on a unique mission, but becomes torn between following orders and protecting an alien civilization. action adventure fantasy sciencefiction cultureclash future spacewar spacecolony society spacetravel futuristic romance space alien tribe alienplanet cgi marine soldier battle loveaffair antiwar powerrelations mindandsoul 3d samworthington zoesaldana sigourneyweaver jamescameron'"
      ]
     },
     "execution_count": 45,
     "metadata": {},
     "output_type": "execute_result"
    }
   ],
   "source": [
    "new_data['tags'][0]"
   ]
  },
  {
   "cell_type": "code",
   "execution_count": 46,
   "metadata": {
    "id": "oJFYE77e9r3i"
   },
   "outputs": [],
   "source": [
    "def stem(text):\n",
    "    L = []\n",
    "    for i in text.split():\n",
    "        L.append(stemmer.stem(i))\n",
    "    return \" \".join(L)"
   ]
  },
  {
   "cell_type": "code",
   "execution_count": 47,
   "metadata": {
    "colab": {
     "base_uri": "https://localhost:8080/",
     "height": 73
    },
    "id": "kPKmcs3v966R",
    "outputId": "251686ac-b762-44a3-a853-c0ab9fa5bea5"
   },
   "outputs": [
    {
     "data": {
      "text/plain": [
       "'in the 22nd century, a parapleg marin is dispatch to the moon pandora on a uniqu mission, but becom torn between follow order and protect an alien civilization. action adventur fantasi sciencefict cultureclash futur spacewar spacecoloni societi spacetravel futurist romanc space alien tribe alienplanet cgi marin soldier battl loveaffair antiwar powerrel mindandsoul 3d samworthington zoesaldana sigourneyweav jamescameron'"
      ]
     },
     "execution_count": 47,
     "metadata": {},
     "output_type": "execute_result"
    }
   ],
   "source": [
    "stem(new_data['tags'][0])"
   ]
  },
  {
   "cell_type": "code",
   "execution_count": 48,
   "metadata": {
    "id": "7WfJ1zQX-yqQ"
   },
   "outputs": [],
   "source": [
    "new_data['tags'] = new_data['tags'].apply(stem)"
   ]
  },
  {
   "cell_type": "code",
   "execution_count": 49,
   "metadata": {
    "colab": {
     "base_uri": "https://localhost:8080/",
     "height": 73
    },
    "id": "OZGuHJ6M_KMH",
    "outputId": "3758e081-f14b-44e9-ac9e-3deb471c79f4"
   },
   "outputs": [
    {
     "data": {
      "text/plain": [
       "\"the seemingli invinc spider-man goe up against an all-new crop of villain – includ the shape-shift sandman. while spider-man’ superpow are alter by an alien organism, hi alter ego, peter parker, deal with nemesi eddi brock and also get caught up in a love triangle. fantasi action adventur dualident amnesia sandstorm loveofone'slif forgiv spider wretch deathofafriend egomania sand narcism hostil marvelcom sequel superhero reveng tobeymaguir kirstendunst jamesfranco samraimi\""
      ]
     },
     "execution_count": 49,
     "metadata": {},
     "output_type": "execute_result"
    }
   ],
   "source": [
    "new_data.tags[5]"
   ]
  },
  {
   "cell_type": "code",
   "execution_count": 50,
   "metadata": {
    "colab": {
     "base_uri": "https://localhost:8080/",
     "height": 143
    },
    "id": "3AW06dv1_YvO",
    "outputId": "a4c29db3-a286-4796-d3b7-09c8f9d666a9"
   },
   "outputs": [
    {
     "data": {
      "text/html": [
       "<div>\n",
       "<style scoped>\n",
       "    .dataframe tbody tr th:only-of-type {\n",
       "        vertical-align: middle;\n",
       "    }\n",
       "\n",
       "    .dataframe tbody tr th {\n",
       "        vertical-align: top;\n",
       "    }\n",
       "\n",
       "    .dataframe thead th {\n",
       "        text-align: right;\n",
       "    }\n",
       "</style>\n",
       "<table border=\"1\" class=\"dataframe\">\n",
       "  <thead>\n",
       "    <tr style=\"text-align: right;\">\n",
       "      <th></th>\n",
       "      <th>id</th>\n",
       "      <th>title</th>\n",
       "      <th>tags</th>\n",
       "    </tr>\n",
       "  </thead>\n",
       "  <tbody>\n",
       "    <tr>\n",
       "      <th>0</th>\n",
       "      <td>19995</td>\n",
       "      <td>Avatar</td>\n",
       "      <td>in the 22nd century, a parapleg marin is dispa...</td>\n",
       "    </tr>\n",
       "    <tr>\n",
       "      <th>1</th>\n",
       "      <td>285</td>\n",
       "      <td>Pirates of the Caribbean: At World's End</td>\n",
       "      <td>captain barbossa, long believ to be dead, ha c...</td>\n",
       "    </tr>\n",
       "    <tr>\n",
       "      <th>2</th>\n",
       "      <td>206647</td>\n",
       "      <td>Spectre</td>\n",
       "      <td>a cryptic messag from bond’ past send him on a...</td>\n",
       "    </tr>\n",
       "  </tbody>\n",
       "</table>\n",
       "</div>"
      ],
      "text/plain": [
       "       id                                     title  \\\n",
       "0   19995                                    Avatar   \n",
       "1     285  Pirates of the Caribbean: At World's End   \n",
       "2  206647                                   Spectre   \n",
       "\n",
       "                                                tags  \n",
       "0  in the 22nd century, a parapleg marin is dispa...  \n",
       "1  captain barbossa, long believ to be dead, ha c...  \n",
       "2  a cryptic messag from bond’ past send him on a...  "
      ]
     },
     "execution_count": 50,
     "metadata": {},
     "output_type": "execute_result"
    }
   ],
   "source": [
    "new_data.head(3)"
   ]
  },
  {
   "cell_type": "code",
   "execution_count": 51,
   "metadata": {
    "id": "UDTKYSA6GDaY"
   },
   "outputs": [],
   "source": [
    "# Do the Vectorization\n",
    "from sklearn.feature_extraction.text import CountVectorizer\n",
    "\n",
    "cv = CountVectorizer(max_features=5000, stop_words='english',ngram_range=(1,1))"
   ]
  },
  {
   "cell_type": "code",
   "execution_count": 52,
   "metadata": {
    "id": "P3oaGBgsGh2o"
   },
   "outputs": [],
   "source": [
    "vectors = cv.fit_transform(new_data['tags']).toarray()"
   ]
  },
  {
   "cell_type": "code",
   "execution_count": 53,
   "metadata": {
    "colab": {
     "base_uri": "https://localhost:8080/"
    },
    "id": "oU6oHsc1GsES",
    "outputId": "d50fa54d-3645-439a-8d6a-e67e06074efe"
   },
   "outputs": [
    {
     "data": {
      "text/plain": [
       "array([[0, 0, 0, ..., 0, 0, 0],\n",
       "       [0, 0, 0, ..., 0, 0, 0],\n",
       "       [0, 0, 0, ..., 0, 0, 0],\n",
       "       ...,\n",
       "       [0, 0, 0, ..., 0, 0, 0],\n",
       "       [0, 0, 0, ..., 0, 0, 0],\n",
       "       [0, 0, 0, ..., 0, 0, 0]], dtype=int64)"
      ]
     },
     "execution_count": 53,
     "metadata": {},
     "output_type": "execute_result"
    }
   ],
   "source": [
    "vectors"
   ]
  },
  {
   "cell_type": "code",
   "execution_count": 54,
   "metadata": {
    "colab": {
     "base_uri": "https://localhost:8080/"
    },
    "id": "Gf-uUivZN0Cq",
    "outputId": "9f3a3559-33d0-45d2-e0d3-5fd2b1369a40"
   },
   "outputs": [
    {
     "data": {
      "text/plain": [
       "array(['000', '007', '10', ..., 'zone', 'zoo', 'zooeydeschanel'],\n",
       "      dtype=object)"
      ]
     },
     "execution_count": 54,
     "metadata": {},
     "output_type": "execute_result"
    }
   ],
   "source": [
    "cv.get_feature_names_out()"
   ]
  },
  {
   "cell_type": "code",
   "execution_count": 55,
   "metadata": {
    "colab": {
     "base_uri": "https://localhost:8080/"
    },
    "id": "aYZPXzb-NIza",
    "outputId": "f7e8d859-42a2-4a11-940a-cd78c8ddf7cd"
   },
   "outputs": [
    {
     "name": "stdout",
     "output_type": "stream",
     "text": [
      "Number of features: 5000\n"
     ]
    }
   ],
   "source": [
    "feature_names = cv.get_feature_names_out()\n",
    "list_length = len(feature_names)\n",
    "print(\"Number of features:\", list_length)"
   ]
  },
  {
   "cell_type": "code",
   "execution_count": 56,
   "metadata": {
    "colab": {
     "base_uri": "https://localhost:8080/"
    },
    "id": "wCfweNT8I33e",
    "outputId": "08124856-fd0d-402b-8652-efa331c09e42"
   },
   "outputs": [
    {
     "data": {
      "text/plain": [
       "{'century': 736,\n",
       " 'marin': 2803,\n",
       " 'dispatch': 1286,\n",
       " 'moon': 3013,\n",
       " 'pandora': 3278,\n",
       " 'uniqu': 4680,\n",
       " 'mission': 2980,\n",
       " 'becom': 441,\n",
       " 'torn': 4552,\n",
       " 'follow': 1729,\n",
       " 'order': 3231,\n",
       " 'protect': 3530,\n",
       " 'alien': 157,\n",
       " 'action': 79,\n",
       " 'adventur': 106,\n",
       " 'fantasi': 1629,\n",
       " 'sciencefict': 3924,\n",
       " 'cultureclash': 1084,\n",
       " 'futur': 1807,\n",
       " 'societi': 4147,\n",
       " 'spacetravel': 4193,\n",
       " 'futurist': 1809,\n",
       " 'romanc': 3805,\n",
       " 'space': 4187,\n",
       " 'tribe': 4603,\n",
       " 'alienplanet': 160,\n",
       " 'soldier': 4154,\n",
       " 'battl': 424,\n",
       " '3d': 47,\n",
       " 'zoesaldana': 4993,\n",
       " 'sigourneyweav': 4074,\n",
       " 'jamescameron': 2327,\n",
       " 'captain': 676,\n",
       " 'long': 2696,\n",
       " 'believ': 453,\n",
       " 'dead': 1150,\n",
       " 'ha': 1962,\n",
       " 'come': 913,\n",
       " 'life': 2647,\n",
       " 'head': 2020,\n",
       " 'edg': 1407,\n",
       " 'earth': 1395,\n",
       " 'turner': 4626,\n",
       " 'elizabeth': 1435,\n",
       " 'noth': 3168,\n",
       " 'quit': 3568,\n",
       " 'ocean': 3194,\n",
       " 'drugabus': 1357,\n",
       " 'exoticisland': 1571,\n",
       " 'loveofone': 2729,\n",
       " 'slif': 4126,\n",
       " 'traitor': 4582,\n",
       " 'shipwreck': 4050,\n",
       " 'ship': 4049,\n",
       " 'allianc': 167,\n",
       " 'afterlif': 119,\n",
       " 'fighter': 1680,\n",
       " 'pirat': 3390,\n",
       " 'aftercreditssting': 118,\n",
       " 'johnnydepp': 2429,\n",
       " 'orlandobloom': 3238,\n",
       " 'keiraknightley': 2499,\n",
       " 'goreverbinski': 1891,\n",
       " 'messag': 2904,\n",
       " 'bond': 543,\n",
       " 'past': 3309,\n",
       " 'send': 3984,\n",
       " 'trail': 4579,\n",
       " 'uncov': 4655,\n",
       " 'sinist': 4096,\n",
       " 'organization': 3235,\n",
       " 'polit': 3427,\n",
       " 'forc': 1737,\n",
       " 'secret': 3956,\n",
       " 'servic': 4004,\n",
       " 'alive': 164,\n",
       " 'deceit': 1166,\n",
       " 'reveal': 3728,\n",
       " 'terribl': 4460,\n",
       " 'truth': 4619,\n",
       " 'crime': 1055,\n",
       " 'spi': 4209,\n",
       " 'basedonnovel': 412,\n",
       " 'secretag': 3957,\n",
       " 'sequel': 3993,\n",
       " 'britishsecretservic': 594,\n",
       " 'danielcraig': 1111,\n",
       " 'christophwaltz': 829,\n",
       " 'sammend': 3880,\n",
       " 'death': 1157,\n",
       " 'district': 1289,\n",
       " 'attorney': 347,\n",
       " 'harvey': 2007,\n",
       " 'batman': 423,\n",
       " 'assum': 331,\n",
       " 'respons': 3712,\n",
       " 'late': 2588,\n",
       " 'reput': 3697,\n",
       " 'subsequ': 4329,\n",
       " 'hunt': 2158,\n",
       " 'gotham': 1896,\n",
       " 'citi': 843,\n",
       " 'polic': 3420,\n",
       " 'year': 4970,\n",
       " 'later': 2589,\n",
       " 'encount': 1472,\n",
       " 'mysteri': 3073,\n",
       " 'kyle': 2563,\n",
       " 'villain': 4777,\n",
       " 'new': 3124,\n",
       " 'terrorist': 4465,\n",
       " 'leader': 2606,\n",
       " 'overwhelm': 3258,\n",
       " 'dark': 1120,\n",
       " 'knight': 2543,\n",
       " 'resurfac': 3719,\n",
       " 'brand': 565,\n",
       " 'enemy': 1480,\n",
       " 'drama': 1337,\n",
       " 'thriller': 4501,\n",
       " 'dccomic': 1148,\n",
       " 'crimefight': 1056,\n",
       " 'secretident': 3959,\n",
       " 'burglar': 634,\n",
       " 'gothamc': 1897,\n",
       " 'vigilant': 4773,\n",
       " 'cover': 1030,\n",
       " 'superhero': 4355,\n",
       " 'terror': 4464,\n",
       " 'destruct': 1223,\n",
       " 'imax': 2197,\n",
       " 'flood': 1718,\n",
       " 'christianbal': 814,\n",
       " 'michaelcain': 2918,\n",
       " 'garyoldman': 1835,\n",
       " 'christophernolan': 826,\n",
       " 'john': 2417,\n",
       " 'carter': 701,\n",
       " 'war': 4829,\n",
       " 'militari': 2949,\n",
       " 'inexplic': 2230,\n",
       " 'transport': 4587,\n",
       " 'exot': 1570,\n",
       " 'planet': 3398,\n",
       " 'reluctantli': 3676,\n",
       " 'embroil': 1450,\n",
       " 'epic': 1505,\n",
       " 'conflict': 958,\n",
       " 'world': 4943,\n",
       " 'brink': 591,\n",
       " 'rediscov': 3647,\n",
       " 'hi': 2056,\n",
       " 'human': 2148,\n",
       " 'realiz': 3622,\n",
       " 'surviv': 4382,\n",
       " 'peopl': 3341,\n",
       " 'rest': 3713,\n",
       " 'hands': 1975,\n",
       " 'mar': 2795,\n",
       " 'medallion': 2873,\n",
       " 'princess': 3494,\n",
       " 'steampunk': 4252,\n",
       " 'martian': 2825,\n",
       " 'escap': 1516,\n",
       " 'superhumanstrength': 4357,\n",
       " '19thcenturi': 35,\n",
       " 'samanthamorton': 3879,\n",
       " 'seemingli': 3974,\n",
       " 'spider': 4210,\n",
       " 'man': 2780,\n",
       " 'goe': 1882,\n",
       " 'includ': 2214,\n",
       " 'shape': 4033,\n",
       " 'shift': 4048,\n",
       " 'superpow': 4362,\n",
       " 'alter': 174,\n",
       " 'ego': 1419,\n",
       " 'peter': 3356,\n",
       " 'parker': 3294,\n",
       " 'deal': 1154,\n",
       " 'nemesi': 3114,\n",
       " 'eddi': 1404,\n",
       " 'caught': 721,\n",
       " 'love': 2725,\n",
       " 'triangle': 4602,\n",
       " 'dualident': 1368,\n",
       " 'amnesia': 198,\n",
       " 'forgiv': 1748,\n",
       " 'wretch': 4958,\n",
       " 'deathofafriend': 1158,\n",
       " 'sand': 3888,\n",
       " 'hostil': 2131,\n",
       " 'marvelcom': 2832,\n",
       " 'reveng': 3731,\n",
       " 'tobeymaguir': 4530,\n",
       " 'kirstendunst': 2537,\n",
       " 'jamesfranco': 2328,\n",
       " 'samraimi': 3882,\n",
       " 'kingdom': 2534,\n",
       " 'bandit': 390,\n",
       " 'rider': 3750,\n",
       " 'hide': 2059,\n",
       " 'tower': 4564,\n",
       " 'taken': 4414,\n",
       " 'hostag': 2129,\n",
       " 'beauti': 434,\n",
       " 'bound': 553,\n",
       " 'teen': 4438,\n",
       " '70': 52,\n",
       " 'feet': 1658,\n",
       " 'golden': 1884,\n",
       " 'hair': 1965,\n",
       " 'look': 2699,\n",
       " 'ticket': 4511,\n",
       " 'lock': 2686,\n",
       " 'away': 368,\n",
       " 'years': 4972,\n",
       " 'strike': 4304,\n",
       " 'handsom': 1976,\n",
       " 'thief': 4485,\n",
       " 'unlik': 4688,\n",
       " 'duo': 1375,\n",
       " 'set': 4007,\n",
       " 'pack': 3265,\n",
       " 'complet': 940,\n",
       " 'super': 4353,\n",
       " 'cop': 998,\n",
       " 'gang': 1824,\n",
       " 'pub': 3541,\n",
       " 'anim': 229,\n",
       " 'famili': 1617,\n",
       " 'magic': 2763,\n",
       " 'hors': 2123,\n",
       " 'fairytal': 1606,\n",
       " 'music': 3063,\n",
       " 'duringcreditssting': 1377,\n",
       " 'mandymoor': 2782,\n",
       " 'toni': 4545,\n",
       " 'stark': 4244,\n",
       " 'tri': 4599,\n",
       " 'program': 3514,\n",
       " 'thing': 4487,\n",
       " 'awri': 370,\n",
       " 'hero': 2051,\n",
       " 'ultim': 4645,\n",
       " 'test': 4468,\n",
       " 'fate': 1642,\n",
       " 'hang': 1978,\n",
       " 'aveng': 361,\n",
       " 'stop': 4282,\n",
       " 'plans': 3400,\n",
       " 'soon': 4169,\n",
       " 'unexpect': 4668,\n",
       " 'way': 4854,\n",
       " 'global': 1877,\n",
       " 'adventure': 107,\n",
       " 'basedoncomicbook': 410,\n",
       " 'vision': 4792,\n",
       " 'marvelcinematicunivers': 2831,\n",
       " 'robertdowneyjr': 3779,\n",
       " 'chrishemsworth': 808,\n",
       " 'markruffalo': 2808,\n",
       " 'harri': 1998,\n",
       " 'begin': 449,\n",
       " 'discov': 1275,\n",
       " 'old': 3207,\n",
       " 'book': 545,\n",
       " 'mark': 2805,\n",
       " 'properti': 3524,\n",
       " 'half': 1967,\n",
       " 'blood': 524,\n",
       " 'prince': 3493,\n",
       " 'learn': 2609,\n",
       " 'lord': 2704,\n",
       " 'witch': 4920,\n",
       " 'broom': 604,\n",
       " 'teenagecrush': 4440,\n",
       " 'werewolf': 4871,\n",
       " 'danielradcliff': 1113,\n",
       " 'rupertgrint': 3844,\n",
       " 'emmawatson': 1462,\n",
       " 'fear': 1650,\n",
       " 'god': 1881,\n",
       " 'lik': 2655,\n",
       " 'left': 2613,\n",
       " 'city': 845,\n",
       " 'modern': 2997,\n",
       " 'day': 1144,\n",
       " 'wrestl': 4956,\n",
       " 'sort': 4175,\n",
       " 'realli': 3623,\n",
       " 'superman': 4358,\n",
       " 'threat': 4498,\n",
       " 'quickli': 3565,\n",
       " 'mankind': 2788,\n",
       " 'greater': 1917,\n",
       " 'danger': 1109,\n",
       " 'known': 2548,\n",
       " 'benaffleck': 459,\n",
       " 'zacksnyd': 4986,\n",
       " 'return': 3725,\n",
       " 'allow': 168,\n",
       " 'walk': 4819,\n",
       " 'free': 1779,\n",
       " 'wa': 4809,\n",
       " 'abandon': 56,\n",
       " 'plot': 3411,\n",
       " 'million': 2952,\n",
       " 'kill': 2525,\n",
       " 'chang': 748,\n",
       " 'face': 1598,\n",
       " 'forever': 1745,\n",
       " 'rid': 3747,\n",
       " 'steel': 4253,\n",
       " 'savingtheworld': 3905,\n",
       " 'kevinspacey': 2513,\n",
       " 'katebosworth': 2486,\n",
       " 'bryansing': 616,\n",
       " 'continu': 985,\n",
       " 'jame': 2324,\n",
       " 'casino': 707,\n",
       " 'betray': 477,\n",
       " 'woman': 4925,\n",
       " '007': 1,\n",
       " 'fight': 1679,\n",
       " 'urg': 4713,\n",
       " 'make': 2771,\n",
       " 'latest': 2590,\n",
       " 'pursu': 3554,\n",
       " 'determin': 1227,\n",
       " 'interrog': 2273,\n",
       " 'mr': 3049,\n",
       " 'white': 4885,\n",
       " 'organ': 3234,\n",
       " 'blackmail': 513,\n",
       " 'far': 1632,\n",
       " 'complex': 941,\n",
       " 'anyon': 264,\n",
       " 'imagined': 2196,\n",
       " 'undercov': 4657,\n",
       " 'marcforst': 2796,\n",
       " 'jack': 2310,\n",
       " 'work': 4938,\n",
       " 'debt': 1161,\n",
       " 'jones': 2443,\n",
       " 'attempt': 341,\n",
       " 'avoid': 363,\n",
       " 'etern': 1526,\n",
       " 'fortunetel': 1755,\n",
       " 'monster': 3006,\n",
       " 'daughter': 1127,\n",
       " 'texa': 4470,\n",
       " 'ranger': 3598,\n",
       " 'chase': 769,\n",
       " 'outlaw': 3251,\n",
       " 'led': 2611,\n",
       " 'ambush': 189,\n",
       " 'survivor': 4385,\n",
       " 'american': 191,\n",
       " 'indian': 2223,\n",
       " 'nurs': 3181,\n",
       " 'health': 2023,\n",
       " 'don': 1315,\n",
       " 'mask': 2835,\n",
       " 'ride': 3749,\n",
       " 'silver': 4078,\n",
       " 'team': 4432,\n",
       " 'bring': 590,\n",
       " 'justice': 2476,\n",
       " 'western': 4878,\n",
       " 'partner': 3302,\n",
       " 'lawyer': 2600,\n",
       " 'train': 4580,\n",
       " 'young': 4976,\n",
       " 'boy': 559,\n",
       " 'extraordinari': 1589,\n",
       " 'power': 3454,\n",
       " 'thi': 4484,\n",
       " 'journey': 2455,\n",
       " 'came': 656,\n",
       " 'sent': 3989,\n",
       " 'emerg': 1451,\n",
       " 'save': 3904,\n",
       " 'symbol': 4407,\n",
       " 'hope': 2114,\n",
       " 'superhuman': 4356,\n",
       " 'alieninvas': 158,\n",
       " 'reboot': 3632,\n",
       " 'amyadam': 204,\n",
       " 'michaelshannon': 2924,\n",
       " 'incred': 2218,\n",
       " 'lion': 2666,\n",
       " 'luci': 2739,\n",
       " 'susan': 4387,\n",
       " 'narnia': 3084,\n",
       " 'aid': 133,\n",
       " 'princ': 3492,\n",
       " 'threaten': 4499,\n",
       " 'evil': 1550,\n",
       " 'king': 2533,\n",
       " 'help': 2048,\n",
       " 'color': 908,\n",
       " 'cast': 708,\n",
       " 'characters': 759,\n",
       " 'clan': 853,\n",
       " 'embark': 1448,\n",
       " 'quest': 3562,\n",
       " 'ensur': 1495,\n",
       " 'right': 3755,\n",
       " 'heir': 2038,\n",
       " 'fictionalplac': 1675,\n",
       " 'brothersisterrelationship': 609,\n",
       " 'matteroflifeanddeath': 2853,\n",
       " 'faith': 1607,\n",
       " 'uncl': 4651,\n",
       " 'fantasyworld': 1631,\n",
       " 'enemi': 1478,\n",
       " 'safeti': 3866,\n",
       " 'nick': 3141,\n",
       " 'director': 1265,\n",
       " 'intern': 2270,\n",
       " 'agenc': 124,\n",
       " 'need': 3106,\n",
       " 'pull': 3546,\n",
       " 'disaster': 1273,\n",
       " 'span': 4195,\n",
       " 'globe': 1878,\n",
       " 'dare': 1119,\n",
       " 'recruit': 3643,\n",
       " 'effort': 1417,\n",
       " 'begins': 450,\n",
       " 'newyork': 3137,\n",
       " 'shield': 4047,\n",
       " 'chrisevan': 807,\n",
       " 'cross': 1066,\n",
       " 'path': 3311,\n",
       " 'sure': 4371,\n",
       " 'ruthless': 3854,\n",
       " 'artist': 313,\n",
       " 'use': 4716,\n",
       " 'fabl': 1596,\n",
       " 'youth': 4982,\n",
       " 'aboard': 61,\n",
       " 'queen': 3559,\n",
       " 'anne': 238,\n",
       " 'revenge': 3732,\n",
       " 'formid': 1750,\n",
       " 'doesn': 1307,\n",
       " 'know': 2546,\n",
       " 'sea': 3941,\n",
       " 'mutini': 3071,\n",
       " 'sword': 4402,\n",
       " 'sail': 3870,\n",
       " 'duke': 1373,\n",
       " 'mermaid': 2902,\n",
       " 'penélopecruz': 3340,\n",
       " 'agent': 127,\n",
       " 'smith': 4134,\n",
       " 'tommi': 4541,\n",
       " 'lee': 2612,\n",
       " 'time': 4518,\n",
       " 'seen': 3975,\n",
       " '15': 8,\n",
       " 'men': 2891,\n",
       " 'black': 511,\n",
       " 'aliens': 161,\n",
       " 'stake': 4234,\n",
       " 'travel': 4591,\n",
       " 'univers': 4682,\n",
       " 'told': 4536,\n",
       " 'themselv': 4481,\n",
       " 'josh': 2449,\n",
       " 'agency': 125,\n",
       " 'humankind': 2151,\n",
       " 'comedi': 916,\n",
       " 'timetravel': 4521,\n",
       " 'willsmith': 4906,\n",
       " 'tommyleejon': 4542,\n",
       " 'joshbrolin': 2450,\n",
       " 'barrysonnenfeld': 406,\n",
       " 'immedi': 2198,\n",
       " 'event': 1540,\n",
       " 'desol': 1214,\n",
       " 'dwarv': 1381,\n",
       " 'defend': 1177,\n",
       " 'mountain': 3039,\n",
       " 'treasur': 4593,\n",
       " 'claim': 849,\n",
       " 'ruin': 3836,\n",
       " 'elv': 1446,\n",
       " 'meanwhil': 2869,\n",
       " 'armi': 297,\n",
       " 'orc': 3229,\n",
       " 'march': 2797,\n",
       " 'fuel': 1798,\n",
       " 'rise': 3762,\n",
       " 'middle': 2935,\n",
       " 'fall': 1610,\n",
       " 'corrupt': 1007,\n",
       " 'hobbit': 2088,\n",
       " 'dragon': 1336,\n",
       " 'unlikelyfriendship': 4689,\n",
       " 'swordandsorceri': 4403,\n",
       " 'martinfreeman': 2828,\n",
       " 'ianmckellen': 2169,\n",
       " 'peterjackson': 3359,\n",
       " 'outcast': 3249,\n",
       " 'high': 2060,\n",
       " 'parent': 3287,\n",
       " 'leav': 2610,\n",
       " 'rais': 3590,\n",
       " 'ben': 458,\n",
       " 'aunt': 353,\n",
       " 'like': 2656,\n",
       " 'teenagers': 4443,\n",
       " 'figur': 1681,\n",
       " 'got': 1895,\n",
       " 'person': 3351,\n",
       " 'today': 4531,\n",
       " 'belong': 456,\n",
       " 'father': 1643,\n",
       " 'understand': 4663,\n",
       " 'parents': 3288,\n",
       " 'disappear': 1270,\n",
       " 'lead': 2605,\n",
       " 'lab': 2565,\n",
       " 'dr': 1333,\n",
       " 'collis': 904,\n",
       " 'cours': 1024,\n",
       " 'choic': 799,\n",
       " 'destini': 1219,\n",
       " 'lossoffath': 2712,\n",
       " 'emmaston': 1460,\n",
       " 'robin': 3785,\n",
       " 'happen': 1983,\n",
       " 'die': 1249,\n",
       " 'robert': 3777,\n",
       " 'promis': 3519,\n",
       " 'identity': 2177,\n",
       " 'widow': 4889,\n",
       " 'draw': 1339,\n",
       " 'town': 4565,\n",
       " 'sheriff': 4044,\n",
       " 'archer': 287,\n",
       " 'middleag': 2936,\n",
       " 'mediev': 2877,\n",
       " 'russellcrow': 3850,\n",
       " 'cateblanchett': 714,\n",
       " 'ridleyscott': 3752,\n",
       " 'success': 4335,\n",
       " 'mountains': 3040,\n",
       " 'gain': 1816,\n",
       " 'ring': 3758,\n",
       " 'gold': 1883,\n",
       " 'wizard': 4922,\n",
       " 'shock': 4051,\n",
       " 'orphan': 3240,\n",
       " 'trade': 4571,\n",
       " 'carefre': 687,\n",
       " 'exist': 1566,\n",
       " 'roam': 3771,\n",
       " 'hall': 1968,\n",
       " 'jordan': 2446,\n",
       " 'colleg': 901,\n",
       " 'otherworldli': 3246,\n",
       " 'north': 3164,\n",
       " 'unawar': 4649,\n",
       " 'destiny': 1220,\n",
       " 'england': 1485,\n",
       " 'experi': 1575,\n",
       " 'basedonyoungadultnovel': 419,\n",
       " 'nicolekidman': 3145,\n",
       " 'chrisweitz': 830,\n",
       " 'york': 4974,\n",
       " 'ambiti': 187,\n",
       " 'movi': 3044,\n",
       " 'produc': 3507,\n",
       " 'hire': 2078,\n",
       " 'crew': 1053,\n",
       " 'skull': 4112,\n",
       " 'island': 2301,\n",
       " 'kong': 2549,\n",
       " 'giant': 1866,\n",
       " 'ape': 269,\n",
       " 'smitten': 4135,\n",
       " 'screenplay': 3936,\n",
       " 'filmmak': 1686,\n",
       " 'filmproduc': 1687,\n",
       " 'dinosaur': 1261,\n",
       " 'naomiwatt': 3082,\n",
       " 'jackblack': 2312,\n",
       " 'adrienbrodi': 100,\n",
       " 'rose': 3823,\n",
       " 'tell': 4452,\n",
       " 'stori': 4285,\n",
       " 'lizzi': 2679,\n",
       " 'lewi': 2638,\n",
       " 'bobbi': 534,\n",
       " 'april': 281,\n",
       " 'titan': 4528,\n",
       " 'board': 530,\n",
       " 'depart': 1199,\n",
       " 'upper': 4706,\n",
       " 'class': 856,\n",
       " 'passeng': 3307,\n",
       " 'mother': 3029,\n",
       " 'ruth': 3853,\n",
       " 'fiancé': 1673,\n",
       " 'drifter': 1348,\n",
       " 'best': 472,\n",
       " 'friend': 1787,\n",
       " 'win': 4908,\n",
       " 'game': 1821,\n",
       " 'explain': 1580,\n",
       " 'voyag': 4807,\n",
       " '20': 36,\n",
       " 'panic': 3279,\n",
       " 'disast': 1272,\n",
       " 'classdiffer': 857,\n",
       " 'starcrossedlov': 4241,\n",
       " '1910': 16,\n",
       " 'katewinslet': 2489,\n",
       " 'leonardodicaprio': 2627,\n",
       " 'age': 122,\n",
       " 'collect': 899,\n",
       " 'govern': 1899,\n",
       " 'pass': 3306,\n",
       " 'act': 78,\n",
       " 'design': 1211,\n",
       " 'polar': 3419,\n",
       " 'caus': 722,\n",
       " 'faction': 1601,\n",
       " 'iron': 2299,\n",
       " 'america': 190,\n",
       " 'civilwar': 848,\n",
       " 'scarlettjohansson': 3914,\n",
       " 'beam': 429,\n",
       " 'radio': 3582,\n",
       " 'signal': 4073,\n",
       " 'form': 1749,\n",
       " 'sever': 4015,\n",
       " 'craft': 1038,\n",
       " 'water': 4852,\n",
       " 'hawaii': 2017,\n",
       " 'lieuten': 2645,\n",
       " 'alex': 150,\n",
       " 'hopper': 2117,\n",
       " 'weapon': 4859,\n",
       " 'offic': 3200,\n",
       " 'assign': 327,\n",
       " 'paul': 3320,\n",
       " 'engag': 1483,\n",
       " 'unimagin': 4678,\n",
       " 'strength': 4300,\n",
       " 'live': 2675,\n",
       " 'potenti': 3450,\n",
       " 'brother': 606,\n",
       " 'admir': 95,\n",
       " 'shane': 4030,\n",
       " 'expect': 1572,\n",
       " 'navi': 3096,\n",
       " 'hongkong': 2108,\n",
       " 'soccer': 4145,\n",
       " 'scientist': 3926,\n",
       " 'peterberg': 3357,\n",
       " 'park': 3293,\n",
       " 'featur': 1653,\n",
       " 'fulli': 1801,\n",
       " 'theme': 4480,\n",
       " 'origin': 3237,\n",
       " 'dna': 1300,\n",
       " 'suspens': 4390,\n",
       " 'amusementpark': 202,\n",
       " 'animalattack': 230,\n",
       " 'animalhorror': 231,\n",
       " 'grave': 1915,\n",
       " 'wrong': 4963,\n",
       " 'attack': 339,\n",
       " 'reloc': 3674,\n",
       " 'author': 357,\n",
       " 'posit': 3444,\n",
       " 'challeng': 742,\n",
       " 'intellig': 2265,\n",
       " 'secur': 3969,\n",
       " 'insid': 2249,\n",
       " 'alli': 166,\n",
       " 'trust': 4618,\n",
       " 'shadow': 4024,\n",
       " 'onli': 3217,\n",
       " 'field': 1676,\n",
       " 'eve': 1539,\n",
       " 'lethal': 2634,\n",
       " 'hidden': 2057,\n",
       " 'motiv': 3034,\n",
       " 'sociopath': 4149,\n",
       " 'killer': 2527,\n",
       " 'judidench': 2461,\n",
       " 'javierbardem': 2352,\n",
       " 'major': 2769,\n",
       " 'ident': 2176,\n",
       " 'crisis': 1062,\n",
       " 'burn': 636,\n",
       " 'decid': 1168,\n",
       " 'suffer': 4341,\n",
       " 'wake': 4818,\n",
       " 'doc': 1301,\n",
       " 'feel': 1657,\n",
       " 'mari': 2799,\n",
       " 'jane': 2340,\n",
       " 'girl': 1870,\n",
       " 'sinc': 4088,\n",
       " 'childhood': 785,\n",
       " 'doctor': 1302,\n",
       " 'supervillain': 4364,\n",
       " 'apart': 266,\n",
       " 'start': 4245,\n",
       " 'odyssey': 3198,\n",
       " 'rebuild': 3633,\n",
       " 'malibu': 2778,\n",
       " 'gwynethpaltrow': 1959,\n",
       " 'doncheadl': 1318,\n",
       " 'alice': 156,\n",
       " 'individu': 2226,\n",
       " '19': 15,\n",
       " 'english': 1486,\n",
       " 'party': 3305,\n",
       " 'crowd': 1068,\n",
       " 'consid': 971,\n",
       " 'marriag': 2813,\n",
       " 'hole': 2091,\n",
       " 'garden': 1830,\n",
       " 'spot': 4222,\n",
       " 'unusu': 4701,\n",
       " 'rabbit': 3569,\n",
       " 'arriv': 306,\n",
       " 'strang': 4292,\n",
       " 'surreal': 4379,\n",
       " 'place': 3394,\n",
       " 'nightmar': 3151,\n",
       " 'child': 782,\n",
       " 'talk': 4417,\n",
       " 'animals': 232,\n",
       " 'alic': 155,\n",
       " 'reason': 3626,\n",
       " 'conquer': 967,\n",
       " 'horrif': 2120,\n",
       " 'restor': 3716,\n",
       " 'throne': 4502,\n",
       " 'annehathaway': 239,\n",
       " 'timburton': 4517,\n",
       " 'cure': 1087,\n",
       " 'treat': 4595,\n",
       " 'line': 2663,\n",
       " 'drawn': 1340,\n",
       " 'band': 389,\n",
       " 'mutant': 3069,\n",
       " 'beast': 432,\n",
       " 'hughjackman': 2147,\n",
       " 'halleberri': 1969,\n",
       " 'brettratn': 580,\n",
       " 'relationship': 3665,\n",
       " 'mike': 2943,\n",
       " 'dure': 1376,\n",
       " 'friends': 1789,\n",
       " 'bestfriend': 473,\n",
       " 'scari': 3913,\n",
       " 'billycryst': 499,\n",
       " 'johngoodman': 2421,\n",
       " 'stevebuscemi': 4264,\n",
       " 'sam': 3877,\n",
       " 'normal': 3162,\n",
       " 'mind': 2955,\n",
       " 'target': 4423,\n",
       " 'drag': 1335,\n",
       " 'egypt': 1420,\n",
       " 'sun': 4351,\n",
       " 'chao': 753,\n",
       " 'artifact': 310,\n",
       " 'transform': 4584,\n",
       " 'tank': 4420,\n",
       " 'robot': 3789,\n",
       " 'shialabeouf': 4046,\n",
       " 'michaelbay': 2917,\n",
       " 'pick': 3378,\n",
       " 'vanish': 4734,\n",
       " 'group': 1935,\n",
       " 'businessman': 640,\n",
       " 'push': 3556,\n",
       " 'boundari': 554,\n",
       " 'technolog': 4435,\n",
       " 'control': 988,\n",
       " 'ancient': 210,\n",
       " 'menac': 2892,\n",
       " 'giantrobot': 1867,\n",
       " 'markwahlberg': 2809,\n",
       " 'oscar': 3243,\n",
       " 'small': 4130,\n",
       " 'tim': 4515,\n",
       " 'circu': 840,\n",
       " 'whisk': 4884,\n",
       " 'kansa': 2479,\n",
       " 'land': 2575,\n",
       " 'oz': 3263,\n",
       " 'inhabit': 2238,\n",
       " 'great': 1916,\n",
       " 'clutch': 883,\n",
       " 'illus': 2191,\n",
       " 'lost': 2718,\n",
       " 'milakuni': 2946,\n",
       " 'rachelweisz': 3577,\n",
       " 'bad': 380,\n",
       " 'guy': 1955,\n",
       " 'spend': 4207,\n",
       " 'loves': 2731,\n",
       " 'school': 3920,\n",
       " 'graduat': 1906,\n",
       " 'stay': 4250,\n",
       " 'clue': 881,\n",
       " 'obsess': 3185,\n",
       " 'jamiefoxx': 2337,\n",
       " 'tech': 4434,\n",
       " 'son': 4166,\n",
       " 'kevin': 2506,\n",
       " 'investig': 2286,\n",
       " 'dictat': 1246,\n",
       " 'real': 3618,\n",
       " 'artificialintellig': 312,\n",
       " 'dystopia': 1389,\n",
       " 'comput': 945,\n",
       " 'decept': 1167,\n",
       " 'duel': 1372,\n",
       " 'motorcycl': 3037,\n",
       " 'jeffbridg': 2362,\n",
       " 'oliviawild': 3212,\n",
       " 'star': 4240,\n",
       " 'race': 3570,\n",
       " 'car': 680,\n",
       " 'lightn': 2654,\n",
       " 'pal': 3274,\n",
       " 'compet': 937,\n",
       " 'grand': 1907,\n",
       " 'road': 3768,\n",
       " 'championship': 745,\n",
       " 'rocki': 3794,\n",
       " 'intrigu': 2279,\n",
       " 'carrac': 697,\n",
       " 'anthropomorph': 256,\n",
       " 'owenwilson': 3259,\n",
       " 'centuries': 735,\n",
       " 'warrior': 4841,\n",
       " 'green': 1923,\n",
       " 'corp': 1003,\n",
       " 'intergalact': 2269,\n",
       " 'wear': 4861,\n",
       " 'grant': 1912,\n",
       " 'destroy': 1221,\n",
       " 'balanc': 384,\n",
       " 'universe': 4683,\n",
       " 'lie': 2644,\n",
       " 'hand': 1973,\n",
       " 'ryanreynold': 3858,\n",
       " 'petersarsgaard': 3360,\n",
       " 'martincampbel': 2827,\n",
       " 'buzz': 647,\n",
       " 'andy': 218,\n",
       " 'toy': 4567,\n",
       " 'haven': 2015,\n",
       " 'play': 3403,\n",
       " 'andi': 214,\n",
       " 'college': 902,\n",
       " 'accident': 69,\n",
       " 'nefari': 3107,\n",
       " 'care': 685,\n",
       " 'center': 731,\n",
       " 'togeth': 4534,\n",
       " 'home': 2096,\n",
       " 'toycomestolif': 4568,\n",
       " 'tomhank': 4539,\n",
       " 'timallen': 4516,\n",
       " 'grown': 1939,\n",
       " 'post': 3447,\n",
       " 'apocalypt': 272,\n",
       " 'connor': 966,\n",
       " 'resist': 3704,\n",
       " 'increasingli': 2217,\n",
       " 'domin': 1314,\n",
       " 'marcu': 2798,\n",
       " 'wright': 4959,\n",
       " 'confus': 960,\n",
       " 'foe': 1725,\n",
       " 'propheci': 3525,\n",
       " 'sanfrancisco': 3891,\n",
       " 'cyborg': 1097,\n",
       " 'killerrobot': 2528,\n",
       " 'gasstat': 1837,\n",
       " 'losangel': 2705,\n",
       " 'antonyelchin': 263,\n",
       " 'shaw': 4040,\n",
       " 'seek': 3973,\n",
       " 'speed': 4204,\n",
       " 'vindiesel': 4780,\n",
       " 'paulwalk': 3328,\n",
       " 'dwaynejohnson': 1382,\n",
       " 'jameswan': 2333,\n",
       " 'unit': 4681,\n",
       " 'nation': 3090,\n",
       " 'lane': 2577,\n",
       " 'content': 983,\n",
       " 'plagu': 3395,\n",
       " 'infect': 2233,\n",
       " 'turn': 4624,\n",
       " 'popul': 3434,\n",
       " 'rampag': 3594,\n",
       " 'zombies': 4996,\n",
       " 'bare': 399,\n",
       " 'chaos': 754,\n",
       " 'persuad': 3352,\n",
       " 'disease': 1278,\n",
       " 'peril': 3346,\n",
       " 'trek': 4598,\n",
       " 'brave': 567,\n",
       " 'odd': 3195,\n",
       " 'answer': 249,\n",
       " 'befor': 446,\n",
       " 'civil': 846,\n",
       " 'horror': 2122,\n",
       " 'apocalyps': 270,\n",
       " 'zombi': 4994,\n",
       " 'zombieapocalyps': 4995,\n",
       " 'bradpitt': 563,\n",
       " 'speci': 4199,\n",
       " 'period': 3347,\n",
       " 'join': 2436,\n",
       " 'younger': 4979,\n",
       " 'future': 1808,\n",
       " '1970': 25,\n",
       " 'storm': 4287,\n",
       " 'jamesmcavoy': 2332,\n",
       " 'michaelfassbend': 2920,\n",
       " 'enterpris': 1498,\n",
       " 'unstopp': 4699,\n",
       " 'everyth': 1548,\n",
       " 'stand': 4238,\n",
       " 'state': 4246,\n",
       " 'score': 3927,\n",
       " 'kirk': 2536,\n",
       " 'manhunt': 2784,\n",
       " 'captur': 678,\n",
       " 'mass': 2836,\n",
       " 'destruction': 1224,\n",
       " 'friendship': 1790,\n",
       " 'sacrific': 3861,\n",
       " 'spacecraft': 4188,\n",
       " 'spaceopera': 4191,\n",
       " 'chrispin': 810,\n",
       " 'unwittingli': 4704,\n",
       " 'open': 3220,\n",
       " 'fearsom': 1652,\n",
       " 'unleash': 4686,\n",
       " 'strive': 4309,\n",
       " 'reclaim': 3637,\n",
       " 'onc': 3216,\n",
       " 'people': 3342,\n",
       " 'thought': 4496,\n",
       " 'legend': 2618,\n",
       " 'chanc': 746,\n",
       " 'ewanmcgregor': 1553,\n",
       " 'adapt': 91,\n",
       " 'scott': 3929,\n",
       " 'novel': 3171,\n",
       " 'lure': 2746,\n",
       " 'lavish': 2596,\n",
       " 'neighbor': 3109,\n",
       " 'jay': 2353,\n",
       " 'crack': 1037,\n",
       " 'rich': 3739,\n",
       " 'existence': 1567,\n",
       " 'obsession': 3186,\n",
       " 'tragedi': 4576,\n",
       " 'await': 364,\n",
       " 'infidel': 2234,\n",
       " 'careymulligan': 689,\n",
       " 'rogu': 3799,\n",
       " 'capabl': 672,\n",
       " 'releas': 3668,\n",
       " 'gift': 1868,\n",
       " 'rule': 3837,\n",
       " 'basedonvideogam': 418,\n",
       " 'jakegyllenha': 2322,\n",
       " 'benkingsley': 467,\n",
       " 'mikenewel': 2945,\n",
       " 'legion': 2621,\n",
       " 'monstrou': 3008,\n",
       " 'creatures': 1050,\n",
       " 'began': 448,\n",
       " 'consum': 978,\n",
       " 'humanity': 2150,\n",
       " 'resourc': 3708,\n",
       " 'end': 1474,\n",
       " 'combat': 911,\n",
       " ...}"
      ]
     },
     "execution_count": 56,
     "metadata": {},
     "output_type": "execute_result"
    }
   ],
   "source": [
    "vocab=cv.vocabulary_\n",
    "vocab"
   ]
  },
  {
   "cell_type": "code",
   "execution_count": 57,
   "metadata": {
    "colab": {
     "base_uri": "https://localhost:8080/"
    },
    "id": "7-bKkOLwMPhY",
    "outputId": "e4d17f07-176c-4bcc-c16c-dc2a2c08e4cb"
   },
   "outputs": [
    {
     "data": {
      "text/plain": [
       "array([[1.        , 0.08346223, 0.0860309 , ..., 0.04499213, 0.        ,\n",
       "        0.        ],\n",
       "       [0.08346223, 1.        , 0.06063391, ..., 0.02378257, 0.        ,\n",
       "        0.02615329],\n",
       "       [0.0860309 , 0.06063391, 1.        , ..., 0.02451452, 0.        ,\n",
       "        0.        ],\n",
       "       ...,\n",
       "       [0.04499213, 0.02378257, 0.02451452, ..., 1.        , 0.03962144,\n",
       "        0.04229549],\n",
       "       [0.        , 0.        , 0.        , ..., 0.03962144, 1.        ,\n",
       "        0.08714204],\n",
       "       [0.        , 0.02615329, 0.        , ..., 0.04229549, 0.08714204,\n",
       "        1.        ]])"
      ]
     },
     "execution_count": 57,
     "metadata": {},
     "output_type": "execute_result"
    }
   ],
   "source": [
    "## Cosine similarity\n",
    "from sklearn.metrics.pairwise import cosine_similarity\n",
    "\n",
    "similarity = cosine_similarity(vectors)\n",
    "similarity"
   ]
  },
  {
   "cell_type": "code",
   "execution_count": 58,
   "metadata": {
    "colab": {
     "base_uri": "https://localhost:8080/"
    },
    "id": "xNsBwB7COtxA",
    "outputId": "b53d0b24-2e5c-4742-b358-76cc96c0338b"
   },
   "outputs": [
    {
     "data": {
      "text/plain": [
       "array([[0.        , 0.08346223, 0.0860309 , ..., 0.04499213, 0.        ,\n",
       "        0.        ],\n",
       "       [0.08346223, 0.        , 0.06063391, ..., 0.02378257, 0.        ,\n",
       "        0.02615329],\n",
       "       [0.0860309 , 0.06063391, 0.        , ..., 0.02451452, 0.        ,\n",
       "        0.        ],\n",
       "       ...,\n",
       "       [0.04499213, 0.02378257, 0.02451452, ..., 0.        , 0.03962144,\n",
       "        0.04229549],\n",
       "       [0.        , 0.        , 0.        , ..., 0.03962144, 0.        ,\n",
       "        0.08714204],\n",
       "       [0.        , 0.02615329, 0.        , ..., 0.04229549, 0.08714204,\n",
       "        0.        ]])"
      ]
     },
     "execution_count": 58,
     "metadata": {},
     "output_type": "execute_result"
    }
   ],
   "source": [
    "np.fill_diagonal(similarity,0)\n",
    "similarity"
   ]
  },
  {
   "cell_type": "code",
   "execution_count": 59,
   "metadata": {
    "id": "44ET2quMPk26"
   },
   "outputs": [],
   "source": [
    "def recommend(movie):\n",
    "    movie_index = new_data[new_data['title']==movie].index[0]\n",
    "    distance = list(enumerate(similarity[movie_index]))\n",
    "    sorted_dist = sorted(distance,reverse=True,key=lambda x: x[1])[:10]\n",
    "\n",
    "    for i in sorted_dist:\n",
    "        print(new_data.iloc[i[0]]['title'])"
   ]
  },
  {
   "cell_type": "code",
   "execution_count": 60,
   "metadata": {
    "colab": {
     "base_uri": "https://localhost:8080/"
    },
    "id": "8JtFVdT9Psbj",
    "outputId": "65a19eab-273d-4d0f-c939-4d10d6f8111f"
   },
   "outputs": [
    {
     "data": {
      "text/plain": [
       "0                                      Avatar\n",
       "1    Pirates of the Caribbean: At World's End\n",
       "2                                     Spectre\n",
       "3                       The Dark Knight Rises\n",
       "4                                 John Carter\n",
       "5                                Spider-Man 3\n",
       "6                                     Tangled\n",
       "7                     Avengers: Age of Ultron\n",
       "8      Harry Potter and the Half-Blood Prince\n",
       "9          Batman v Superman: Dawn of Justice\n",
       "Name: title, dtype: object"
      ]
     },
     "execution_count": 60,
     "metadata": {},
     "output_type": "execute_result"
    }
   ],
   "source": [
    "new_data['title'][:10]"
   ]
  },
  {
   "cell_type": "code",
   "execution_count": 61,
   "metadata": {
    "colab": {
     "base_uri": "https://localhost:8080/"
    },
    "id": "lJ-zfsktPx7m",
    "outputId": "944591e5-9ec1-49c4-e456-5714f8e6c998"
   },
   "outputs": [
    {
     "name": "stdout",
     "output_type": "stream",
     "text": [
      "Aliens vs Predator: Requiem\n",
      "Aliens\n",
      "Falcon Rising\n",
      "Independence Day\n",
      "Titan A.E.\n",
      "Battle: Los Angeles\n",
      "Predators\n",
      "Small Soldiers\n",
      "Meet Dave\n",
      "U.F.O.\n"
     ]
    }
   ],
   "source": [
    "recommend('Avatar')"
   ]
  },
  {
   "cell_type": "code",
   "execution_count": 62,
   "metadata": {
    "colab": {
     "base_uri": "https://localhost:8080/"
    },
    "id": "s7V4xC5tRhZM",
    "outputId": "958cac79-6b80-41f3-c37a-035350699b2b"
   },
   "outputs": [
    {
     "name": "stdout",
     "output_type": "stream",
     "text": [
      "Man of Steel\n",
      "Batman Begins\n",
      "Thor\n",
      "Watchmen\n",
      "Defendor\n",
      "The Dark Knight\n",
      "Superman II\n",
      "Batman Returns\n",
      "Batman\n",
      "Superman Returns\n"
     ]
    }
   ],
   "source": [
    "recommend(\"Batman v Superman: Dawn of Justice\")"
   ]
  },
  {
   "cell_type": "code",
   "execution_count": 63,
   "metadata": {
    "id": "ebuIjr_5Y1xt"
   },
   "outputs": [],
   "source": [
    "import pickle\n",
    "pickle.dump(new_data,open('movies.pkl','wb'))\n",
    "\n",
    "pickle.dump(similarity,open('similarity.pkl','wb'))"
   ]
  }
 ],
 "metadata": {
  "colab": {
   "provenance": []
  },
  "kernelspec": {
   "display_name": "Python 3 (ipykernel)",
   "language": "python",
   "name": "python3"
  },
  "language_info": {
   "codemirror_mode": {
    "name": "ipython",
    "version": 3
   },
   "file_extension": ".py",
   "mimetype": "text/x-python",
   "name": "python",
   "nbconvert_exporter": "python",
   "pygments_lexer": "ipython3",
   "version": "3.11.3"
  }
 },
 "nbformat": 4,
 "nbformat_minor": 1
}
